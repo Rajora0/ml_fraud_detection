{
  "nbformat": 4,
  "nbformat_minor": 0,
  "metadata": {
    "colab": {
      "name": "Modelos preditivos em dados: detecção de fraude.ipynb",
      "provenance": [],
      "collapsed_sections": [],
      "authorship_tag": "ABX9TyNHa3t2BhBErHIi2p1mnsdO",
      "include_colab_link": true
    },
    "kernelspec": {
      "name": "python3",
      "display_name": "Python 3"
    },
    "language_info": {
      "name": "python"
    }
  },
  "cells": [
    {
      "cell_type": "markdown",
      "metadata": {
        "id": "view-in-github",
        "colab_type": "text"
      },
      "source": [
        "<a href=\"https://colab.research.google.com/github/Rajora0/ml_fraud_detection/blob/main/Modelos_preditivos_em_dados_detec%C3%A7%C3%A3o_de_fraude.ipynb\" target=\"_parent\"><img src=\"https://colab.research.google.com/assets/colab-badge.svg\" alt=\"Open In Colab\"/></a>"
      ]
    },
    {
      "cell_type": "markdown",
      "source": [
        "# Modelos preditivos em dados: detecção de fraude\n",
        "\n",
        "---\n"
      ],
      "metadata": {
        "id": "_EaR-Ar9JykV"
      }
    },
    {
      "cell_type": "markdown",
      "source": [
        "## Montar Drive"
      ],
      "metadata": {
        "id": "FIKd8FNbJ0za"
      }
    },
    {
      "cell_type": "code",
      "execution_count": null,
      "metadata": {
        "id": "7wy1xYgMIsXy",
        "colab": {
          "base_uri": "https://localhost:8080/"
        },
        "outputId": "a179e8cd-f337-49f1-8bd0-c2fc48a9ef2e"
      },
      "outputs": [
        {
          "output_type": "stream",
          "name": "stdout",
          "text": [
            "Drive already mounted at /gdrive/; to attempt to forcibly remount, call drive.mount(\"/gdrive/\", force_remount=True).\n",
            "fraud_dataset_example.csv\n"
          ]
        }
      ],
      "source": [
        "from google.colab import drive\n",
        "drive.mount('/gdrive/')\n",
        "\n",
        "!ls '/gdrive/MyDrive/ML_DETECT_FRAUDE/Dados/'"
      ]
    },
    {
      "cell_type": "markdown",
      "source": [
        "## ETL"
      ],
      "metadata": {
        "id": "l0HxXHY_SEXc"
      }
    },
    {
      "cell_type": "code",
      "source": [
        "#!wget https://caelum-online-public.s3.amazonaws.com/2423-modelos-preditivos-dados/01/fraud_dataset_example.csv -O /gdrive/MyDrive/ML_DETECT_FRAUDE/Dados/fraud_dataset_example.csv"
      ],
      "metadata": {
        "id": "XF6UvNRVQ7XJ"
      },
      "execution_count": null,
      "outputs": []
    },
    {
      "cell_type": "markdown",
      "source": [
        "## Pipeline do Projeto"
      ],
      "metadata": {
        "id": "87g_Iv6cigRX"
      }
    },
    {
      "cell_type": "markdown",
      "source": [
        "**1) Descobrindo o problema**\n",
        "\n",
        "Com o problema definido, é mais fácil conseguir soluções para ele. Portanto, essa etapa é crucial, pois irá definir as próximas fases a serem seguidas para resolver a questão encontrada.\n"
      ],
      "metadata": {
        "id": "SRgUKuv6iizn"
      }
    },
    {
      "cell_type": "markdown",
      "source": [
        "**2) Coleta dos dados**\n",
        "\n",
        "Na coleta de dados, precisamos fazer um levantamento de todos os dados e compreender se são bases de dados internas ou externas à empresa e se o seu formato é estruturado ou não. Nesta etapa, precisamos estar alinhados ao problema, pois a base de dados utilizada deve ser condizente para propor uma solução ao problema definido.\n",
        "\n"
      ],
      "metadata": {
        "id": "V4VWr2_fiyuS"
      }
    },
    {
      "cell_type": "markdown",
      "source": [
        "**3) Limpeza/Tratamento de dados**\n",
        "\n",
        "Na grande maioria das vezes, os dados coletados apresentaram valores faltantes, registros incoerentes e outliers (quando se diferenciam totalmente dos outros dados). Além disso, as variáveis podem estar em um formato inadequado para utilização de um algoritmo de machine learning, se esse for o objetivo do projeto. Essa é uma das fases que exige maior trabalho e tem como objetivo o tratamento dos dados para que fiquem adequados para análise.\n",
        "\n"
      ],
      "metadata": {
        "id": "CV7sdRewi1LJ"
      }
    },
    {
      "cell_type": "markdown",
      "source": [
        "**4) Análise Exploratória de dados**\n",
        "\n",
        "Chegando nesse estágio da pipeline, nossos dados já estão tratados e livres de valores faltantes. Podemos começar a identificar padrões, muitas vezes ocultos, para que possamos mapear e entender melhor o problema a ser solucionado.\n",
        "\n"
      ],
      "metadata": {
        "id": "PzFdyPPKi21i"
      }
    },
    {
      "cell_type": "markdown",
      "source": [
        "**5) Modelagem dos dados**\n",
        "\n",
        "A modelagem de dados é o ponto em que os modelos de machine learning são utilizados para extrair o padrão dos dados e resolver o problema de negócio que foi identificado na primeira etapa do pipeline. O tipo de algoritmo a ser utilizado dependerá do tipo de problema a ser resolvido. Diversos algoritmos são testados e aquele que apresenta o melhor desempenho é selecionado.\n",
        "\n"
      ],
      "metadata": {
        "id": "dbvH4ReRi3_a"
      }
    },
    {
      "cell_type": "markdown",
      "source": [
        "**6) Interpretação dos dados**\n",
        "\n",
        "Essa etapa é a mais subjetiva de todas, já que depende da interpretação de cada cientista de dados. Nela, avaliamos os resultados obtidos e precisamos entender como cada ponto se encaixa para que esse resultado possa ser explicado para outras equipes, de forma simples e direta.\n",
        "\n"
      ],
      "metadata": {
        "id": "qXSMbBnIi5ID"
      }
    },
    {
      "cell_type": "markdown",
      "source": [
        "**7) Aplicando melhorias**\n",
        "\n",
        "Conforme o tempo passa, o modelo construído ou a análise que foi feita pode não ser aplicável da mesma forma para dados atualizados. Portanto, revisões são fundamentais para manter a efetividade do projeto."
      ],
      "metadata": {
        "id": "d4tXpG2Oi6X1"
      }
    },
    {
      "cell_type": "markdown",
      "source": [
        "## Carregando os dados"
      ],
      "metadata": {
        "id": "f_JtBK683wi7"
      }
    },
    {
      "cell_type": "markdown",
      "source": [
        "- https://www.kaggle.com/datasets/gopalmahadevan/fraud-detection-example?select=fraud_dataset_example.csv"
      ],
      "metadata": {
        "id": "pMGpZn5S4uvg"
      }
    },
    {
      "cell_type": "code",
      "source": [
        "import pandas as pd\n",
        "import numpy as np\n",
        "import matplotlib.pyplot as plt\n",
        "\n",
        "\n",
        "path = '/gdrive/MyDrive/ML_DETECT_FRAUDE/Dados/'"
      ],
      "metadata": {
        "id": "VQ8zfpEk3slp"
      },
      "execution_count": null,
      "outputs": []
    },
    {
      "cell_type": "code",
      "source": [
        "fraud_dataset = pd.read_csv(path+'fraud_dataset_example.csv')\n",
        "fraud_dataset.head()"
      ],
      "metadata": {
        "colab": {
          "base_uri": "https://localhost:8080/",
          "height": 270
        },
        "id": "2fy50aTj4axd",
        "outputId": "69198224-3bd7-44a2-bfea-21f706cf571f"
      },
      "execution_count": null,
      "outputs": [
        {
          "output_type": "execute_result",
          "data": {
            "text/plain": [
              "   step      type    amount     nameOrig  oldbalanceOrg  newbalanceOrig  \\\n",
              "0     1   PAYMENT   9839.64  C1231006815       170136.0       160296.36   \n",
              "1     1   PAYMENT   1864.28  C1666544295        21249.0        19384.72   \n",
              "2     1  TRANSFER    181.00  C1305486145          181.0            0.00   \n",
              "3     1  CASH_OUT    181.00   C840083671          181.0            0.00   \n",
              "4     1   PAYMENT  11668.14  C2048537720        41554.0        29885.86   \n",
              "\n",
              "      nameDest  oldbalanceDest  newbalanceDest  isFraud  isFlaggedFraud  \n",
              "0  M1979787155             0.0             0.0        0               0  \n",
              "1  M2044282225             0.0             0.0        0               0  \n",
              "2   C553264065             0.0             0.0        1               0  \n",
              "3    C38997010         21182.0             0.0        1               0  \n",
              "4  M1230701703             0.0             0.0        0               0  "
            ],
            "text/html": [
              "\n",
              "  <div id=\"df-9ad98b91-df26-4b9a-9153-4be80d9fcb29\">\n",
              "    <div class=\"colab-df-container\">\n",
              "      <div>\n",
              "<style scoped>\n",
              "    .dataframe tbody tr th:only-of-type {\n",
              "        vertical-align: middle;\n",
              "    }\n",
              "\n",
              "    .dataframe tbody tr th {\n",
              "        vertical-align: top;\n",
              "    }\n",
              "\n",
              "    .dataframe thead th {\n",
              "        text-align: right;\n",
              "    }\n",
              "</style>\n",
              "<table border=\"1\" class=\"dataframe\">\n",
              "  <thead>\n",
              "    <tr style=\"text-align: right;\">\n",
              "      <th></th>\n",
              "      <th>step</th>\n",
              "      <th>type</th>\n",
              "      <th>amount</th>\n",
              "      <th>nameOrig</th>\n",
              "      <th>oldbalanceOrg</th>\n",
              "      <th>newbalanceOrig</th>\n",
              "      <th>nameDest</th>\n",
              "      <th>oldbalanceDest</th>\n",
              "      <th>newbalanceDest</th>\n",
              "      <th>isFraud</th>\n",
              "      <th>isFlaggedFraud</th>\n",
              "    </tr>\n",
              "  </thead>\n",
              "  <tbody>\n",
              "    <tr>\n",
              "      <th>0</th>\n",
              "      <td>1</td>\n",
              "      <td>PAYMENT</td>\n",
              "      <td>9839.64</td>\n",
              "      <td>C1231006815</td>\n",
              "      <td>170136.0</td>\n",
              "      <td>160296.36</td>\n",
              "      <td>M1979787155</td>\n",
              "      <td>0.0</td>\n",
              "      <td>0.0</td>\n",
              "      <td>0</td>\n",
              "      <td>0</td>\n",
              "    </tr>\n",
              "    <tr>\n",
              "      <th>1</th>\n",
              "      <td>1</td>\n",
              "      <td>PAYMENT</td>\n",
              "      <td>1864.28</td>\n",
              "      <td>C1666544295</td>\n",
              "      <td>21249.0</td>\n",
              "      <td>19384.72</td>\n",
              "      <td>M2044282225</td>\n",
              "      <td>0.0</td>\n",
              "      <td>0.0</td>\n",
              "      <td>0</td>\n",
              "      <td>0</td>\n",
              "    </tr>\n",
              "    <tr>\n",
              "      <th>2</th>\n",
              "      <td>1</td>\n",
              "      <td>TRANSFER</td>\n",
              "      <td>181.00</td>\n",
              "      <td>C1305486145</td>\n",
              "      <td>181.0</td>\n",
              "      <td>0.00</td>\n",
              "      <td>C553264065</td>\n",
              "      <td>0.0</td>\n",
              "      <td>0.0</td>\n",
              "      <td>1</td>\n",
              "      <td>0</td>\n",
              "    </tr>\n",
              "    <tr>\n",
              "      <th>3</th>\n",
              "      <td>1</td>\n",
              "      <td>CASH_OUT</td>\n",
              "      <td>181.00</td>\n",
              "      <td>C840083671</td>\n",
              "      <td>181.0</td>\n",
              "      <td>0.00</td>\n",
              "      <td>C38997010</td>\n",
              "      <td>21182.0</td>\n",
              "      <td>0.0</td>\n",
              "      <td>1</td>\n",
              "      <td>0</td>\n",
              "    </tr>\n",
              "    <tr>\n",
              "      <th>4</th>\n",
              "      <td>1</td>\n",
              "      <td>PAYMENT</td>\n",
              "      <td>11668.14</td>\n",
              "      <td>C2048537720</td>\n",
              "      <td>41554.0</td>\n",
              "      <td>29885.86</td>\n",
              "      <td>M1230701703</td>\n",
              "      <td>0.0</td>\n",
              "      <td>0.0</td>\n",
              "      <td>0</td>\n",
              "      <td>0</td>\n",
              "    </tr>\n",
              "  </tbody>\n",
              "</table>\n",
              "</div>\n",
              "      <button class=\"colab-df-convert\" onclick=\"convertToInteractive('df-9ad98b91-df26-4b9a-9153-4be80d9fcb29')\"\n",
              "              title=\"Convert this dataframe to an interactive table.\"\n",
              "              style=\"display:none;\">\n",
              "        \n",
              "  <svg xmlns=\"http://www.w3.org/2000/svg\" height=\"24px\"viewBox=\"0 0 24 24\"\n",
              "       width=\"24px\">\n",
              "    <path d=\"M0 0h24v24H0V0z\" fill=\"none\"/>\n",
              "    <path d=\"M18.56 5.44l.94 2.06.94-2.06 2.06-.94-2.06-.94-.94-2.06-.94 2.06-2.06.94zm-11 1L8.5 8.5l.94-2.06 2.06-.94-2.06-.94L8.5 2.5l-.94 2.06-2.06.94zm10 10l.94 2.06.94-2.06 2.06-.94-2.06-.94-.94-2.06-.94 2.06-2.06.94z\"/><path d=\"M17.41 7.96l-1.37-1.37c-.4-.4-.92-.59-1.43-.59-.52 0-1.04.2-1.43.59L10.3 9.45l-7.72 7.72c-.78.78-.78 2.05 0 2.83L4 21.41c.39.39.9.59 1.41.59.51 0 1.02-.2 1.41-.59l7.78-7.78 2.81-2.81c.8-.78.8-2.07 0-2.86zM5.41 20L4 18.59l7.72-7.72 1.47 1.35L5.41 20z\"/>\n",
              "  </svg>\n",
              "      </button>\n",
              "      \n",
              "  <style>\n",
              "    .colab-df-container {\n",
              "      display:flex;\n",
              "      flex-wrap:wrap;\n",
              "      gap: 12px;\n",
              "    }\n",
              "\n",
              "    .colab-df-convert {\n",
              "      background-color: #E8F0FE;\n",
              "      border: none;\n",
              "      border-radius: 50%;\n",
              "      cursor: pointer;\n",
              "      display: none;\n",
              "      fill: #1967D2;\n",
              "      height: 32px;\n",
              "      padding: 0 0 0 0;\n",
              "      width: 32px;\n",
              "    }\n",
              "\n",
              "    .colab-df-convert:hover {\n",
              "      background-color: #E2EBFA;\n",
              "      box-shadow: 0px 1px 2px rgba(60, 64, 67, 0.3), 0px 1px 3px 1px rgba(60, 64, 67, 0.15);\n",
              "      fill: #174EA6;\n",
              "    }\n",
              "\n",
              "    [theme=dark] .colab-df-convert {\n",
              "      background-color: #3B4455;\n",
              "      fill: #D2E3FC;\n",
              "    }\n",
              "\n",
              "    [theme=dark] .colab-df-convert:hover {\n",
              "      background-color: #434B5C;\n",
              "      box-shadow: 0px 1px 3px 1px rgba(0, 0, 0, 0.15);\n",
              "      filter: drop-shadow(0px 1px 2px rgba(0, 0, 0, 0.3));\n",
              "      fill: #FFFFFF;\n",
              "    }\n",
              "  </style>\n",
              "\n",
              "      <script>\n",
              "        const buttonEl =\n",
              "          document.querySelector('#df-9ad98b91-df26-4b9a-9153-4be80d9fcb29 button.colab-df-convert');\n",
              "        buttonEl.style.display =\n",
              "          google.colab.kernel.accessAllowed ? 'block' : 'none';\n",
              "\n",
              "        async function convertToInteractive(key) {\n",
              "          const element = document.querySelector('#df-9ad98b91-df26-4b9a-9153-4be80d9fcb29');\n",
              "          const dataTable =\n",
              "            await google.colab.kernel.invokeFunction('convertToInteractive',\n",
              "                                                     [key], {});\n",
              "          if (!dataTable) return;\n",
              "\n",
              "          const docLinkHtml = 'Like what you see? Visit the ' +\n",
              "            '<a target=\"_blank\" href=https://colab.research.google.com/notebooks/data_table.ipynb>data table notebook</a>'\n",
              "            + ' to learn more about interactive tables.';\n",
              "          element.innerHTML = '';\n",
              "          dataTable['output_type'] = 'display_data';\n",
              "          await google.colab.output.renderOutput(dataTable, element);\n",
              "          const docLink = document.createElement('div');\n",
              "          docLink.innerHTML = docLinkHtml;\n",
              "          element.appendChild(docLink);\n",
              "        }\n",
              "      </script>\n",
              "    </div>\n",
              "  </div>\n",
              "  "
            ]
          },
          "metadata": {},
          "execution_count": 113
        }
      ]
    },
    {
      "cell_type": "markdown",
      "source": [
        "## Analise exploratoria"
      ],
      "metadata": {
        "id": "o0hE0tS7A2At"
      }
    },
    {
      "cell_type": "markdown",
      "source": [
        "**step** - unit of time (1 hour)\n",
        "\n",
        "**type** - CASH-IN, CASH-OUT, DEBIT, PAYMENT and TRANSFER.\n",
        "\n",
        "**amount** - transaction amount in local currency.\n",
        "\n",
        "**nameOrig** - transaction originator\n",
        "\n",
        "**oldbalanceOrg** - initial balance (before transaction)\n",
        "\n",
        "**newbalanceOrig** - new balance (after transaction)\n",
        "\n",
        "**nameDest** - transaction recipient\n",
        "\n",
        "**oldbalanceDest** - initial balance before transaction.\n",
        "\n",
        "**newbalanceDest** - new balance after transaction.\n",
        "\n",
        "**isFraud** - Fraud agent takes control of customers accounts and attempts to empty it by transferring to another account and then cashing out.\n",
        "\n",
        "**isFlaggedFraud** - An illegal attempt to transfer massive amount of money in a single transaction.\n",
        "\n"
      ],
      "metadata": {
        "id": "4mdXlvKX4GoJ"
      }
    },
    {
      "cell_type": "code",
      "source": [
        "# Valores unicos\n",
        "\n",
        "def unique(df):\n",
        "  for col in df.columns:\n",
        "    print('*'*100)\n",
        "    print(f'Column name: {col}, Len: {len(df[col])}')\n",
        "    print(df[col].unique())"
      ],
      "metadata": {
        "id": "5Iok2OMA4F5p"
      },
      "execution_count": null,
      "outputs": []
    },
    {
      "cell_type": "code",
      "source": [
        "unique(fraud_dataset)"
      ],
      "metadata": {
        "colab": {
          "base_uri": "https://localhost:8080/"
        },
        "id": "yK-fvCiT5Q3Y",
        "outputId": "59a5ece4-e434-4e6d-9d68-0359ce74eae7"
      },
      "execution_count": null,
      "outputs": [
        {
          "output_type": "stream",
          "name": "stdout",
          "text": [
            "****************************************************************************************************\n",
            "Column name: step, Len: 101613\n",
            "[ 1  2  3  4  5  6  7  8  9 10]\n",
            "****************************************************************************************************\n",
            "Column name: type, Len: 101613\n",
            "['PAYMENT' 'TRANSFER' 'CASH_OUT' 'DEBIT' 'CASH_IN']\n",
            "****************************************************************************************************\n",
            "Column name: amount, Len: 101613\n",
            "[9.83964000e+03 1.86428000e+03 1.81000000e+02 ... 1.72890100e+04\n",
            " 1.34714645e+06 4.69539210e+05]\n",
            "****************************************************************************************************\n",
            "Column name: nameOrig, Len: 101613\n",
            "['C1231006815' 'C1666544295' 'C1305486145' ... 'C807582280' 'C1315779140'\n",
            " 'C515691325']\n",
            "****************************************************************************************************\n",
            "Column name: oldbalanceOrg, Len: 101613\n",
            "[1.7013600e+05 2.1249000e+04 1.8100000e+02 ... 7.6240000e+03 2.2033929e+05\n",
            " 1.6050000e+03]\n",
            "****************************************************************************************************\n",
            "Column name: newbalanceOrig, Len: 101613\n",
            "[160296.36  19384.72      0.   ... 515468.28 514732.9  504928.03]\n",
            "****************************************************************************************************\n",
            "Column name: nameDest, Len: 101613\n",
            "['M1979787155' 'M2044282225' 'C553264065' ... 'M1601421613' 'M524833426'\n",
            " 'M334249577']\n",
            "****************************************************************************************************\n",
            "Column name: oldbalanceDest, Len: 101613\n",
            "[     0.    21182.    41898.   ... 100529.4   95156.01 541639.43]\n",
            "****************************************************************************************************\n",
            "Column name: newbalanceDest, Len: 101613\n",
            "[      0.     40348.79  157982.12 ...  329065.78   91286.97 2186953.43]\n",
            "****************************************************************************************************\n",
            "Column name: isFraud, Len: 101613\n",
            "[0 1]\n",
            "****************************************************************************************************\n",
            "Column name: isFlaggedFraud, Len: 101613\n",
            "[0]\n"
          ]
        }
      ]
    },
    {
      "cell_type": "code",
      "source": [
        "# Ordenar por fraude\n",
        "\n",
        "fraud_dataset = fraud_dataset[['isFraud',\n",
        "                               'isFlaggedFraud',\n",
        "                               'step', \n",
        "                               'type', \n",
        "                               'amount', \n",
        "                               'nameOrig', \n",
        "                               'oldbalanceOrg', \n",
        "                               'newbalanceOrig',\n",
        "                               'nameDest', \n",
        "                               'oldbalanceDest', \n",
        "                               'newbalanceDest']]"
      ],
      "metadata": {
        "id": "hSx4oLWM8q4I"
      },
      "execution_count": null,
      "outputs": []
    },
    {
      "cell_type": "code",
      "source": [
        "fraud_dataset.columns"
      ],
      "metadata": {
        "colab": {
          "base_uri": "https://localhost:8080/"
        },
        "id": "HCV7O_cO-Bms",
        "outputId": "d9eba6df-2234-493d-c1c7-da58af828013"
      },
      "execution_count": null,
      "outputs": [
        {
          "output_type": "execute_result",
          "data": {
            "text/plain": [
              "Index(['isFraud', 'isFlaggedFraud', 'step', 'type', 'amount', 'nameOrig',\n",
              "       'oldbalanceOrg', 'newbalanceOrig', 'nameDest', 'oldbalanceDest',\n",
              "       'newbalanceDest'],\n",
              "      dtype='object')"
            ]
          },
          "metadata": {},
          "execution_count": 117
        }
      ]
    },
    {
      "cell_type": "code",
      "source": [
        "# Renomear colunas\n",
        "\n",
        "colunas = { 'isFraud': 'fraude',\n",
        "           'isFlaggedFraud': 'super_fraude',\n",
        "           'step': 'tempo', \n",
        "           'type': 'tipo', \n",
        "           'amount':'valor', \n",
        "           'nameOrig': 'cliente1', \n",
        "           'oldbalanceOrg': 'saldo_inicial_c1', \n",
        "           'newbalanceOrig': 'novo_saldo_c1',\n",
        "           'nameDest': 'cliente2', \n",
        "           'oldbalanceDest': 'saldo_inicial_c2', \n",
        "           'newbalanceDest': 'novo_saldo_c2' \n",
        "           \n",
        "           }"
      ],
      "metadata": {
        "id": "qC9iG4x_8xfX"
      },
      "execution_count": null,
      "outputs": []
    },
    {
      "cell_type": "code",
      "source": [
        "fraud_dataset.rename(columns=colunas,inplace=True)\n",
        "fraud_dataset.head()"
      ],
      "metadata": {
        "colab": {
          "base_uri": "https://localhost:8080/",
          "height": 270
        },
        "id": "MKGsJp35-RBo",
        "outputId": "d4a3e956-d717-4322-ad4a-2a9a275e65e4"
      },
      "execution_count": null,
      "outputs": [
        {
          "output_type": "execute_result",
          "data": {
            "text/plain": [
              "   fraude  super_fraude  tempo      tipo     valor     cliente1  \\\n",
              "0       0             0      1   PAYMENT   9839.64  C1231006815   \n",
              "1       0             0      1   PAYMENT   1864.28  C1666544295   \n",
              "2       1             0      1  TRANSFER    181.00  C1305486145   \n",
              "3       1             0      1  CASH_OUT    181.00   C840083671   \n",
              "4       0             0      1   PAYMENT  11668.14  C2048537720   \n",
              "\n",
              "   saldo_inicial_c1  novo_saldo_c1     cliente2  saldo_inicial_c2  \\\n",
              "0          170136.0      160296.36  M1979787155               0.0   \n",
              "1           21249.0       19384.72  M2044282225               0.0   \n",
              "2             181.0           0.00   C553264065               0.0   \n",
              "3             181.0           0.00    C38997010           21182.0   \n",
              "4           41554.0       29885.86  M1230701703               0.0   \n",
              "\n",
              "   novo_saldo_c2  \n",
              "0            0.0  \n",
              "1            0.0  \n",
              "2            0.0  \n",
              "3            0.0  \n",
              "4            0.0  "
            ],
            "text/html": [
              "\n",
              "  <div id=\"df-713bb1e1-8e35-49f8-b26f-9131008f5adf\">\n",
              "    <div class=\"colab-df-container\">\n",
              "      <div>\n",
              "<style scoped>\n",
              "    .dataframe tbody tr th:only-of-type {\n",
              "        vertical-align: middle;\n",
              "    }\n",
              "\n",
              "    .dataframe tbody tr th {\n",
              "        vertical-align: top;\n",
              "    }\n",
              "\n",
              "    .dataframe thead th {\n",
              "        text-align: right;\n",
              "    }\n",
              "</style>\n",
              "<table border=\"1\" class=\"dataframe\">\n",
              "  <thead>\n",
              "    <tr style=\"text-align: right;\">\n",
              "      <th></th>\n",
              "      <th>fraude</th>\n",
              "      <th>super_fraude</th>\n",
              "      <th>tempo</th>\n",
              "      <th>tipo</th>\n",
              "      <th>valor</th>\n",
              "      <th>cliente1</th>\n",
              "      <th>saldo_inicial_c1</th>\n",
              "      <th>novo_saldo_c1</th>\n",
              "      <th>cliente2</th>\n",
              "      <th>saldo_inicial_c2</th>\n",
              "      <th>novo_saldo_c2</th>\n",
              "    </tr>\n",
              "  </thead>\n",
              "  <tbody>\n",
              "    <tr>\n",
              "      <th>0</th>\n",
              "      <td>0</td>\n",
              "      <td>0</td>\n",
              "      <td>1</td>\n",
              "      <td>PAYMENT</td>\n",
              "      <td>9839.64</td>\n",
              "      <td>C1231006815</td>\n",
              "      <td>170136.0</td>\n",
              "      <td>160296.36</td>\n",
              "      <td>M1979787155</td>\n",
              "      <td>0.0</td>\n",
              "      <td>0.0</td>\n",
              "    </tr>\n",
              "    <tr>\n",
              "      <th>1</th>\n",
              "      <td>0</td>\n",
              "      <td>0</td>\n",
              "      <td>1</td>\n",
              "      <td>PAYMENT</td>\n",
              "      <td>1864.28</td>\n",
              "      <td>C1666544295</td>\n",
              "      <td>21249.0</td>\n",
              "      <td>19384.72</td>\n",
              "      <td>M2044282225</td>\n",
              "      <td>0.0</td>\n",
              "      <td>0.0</td>\n",
              "    </tr>\n",
              "    <tr>\n",
              "      <th>2</th>\n",
              "      <td>1</td>\n",
              "      <td>0</td>\n",
              "      <td>1</td>\n",
              "      <td>TRANSFER</td>\n",
              "      <td>181.00</td>\n",
              "      <td>C1305486145</td>\n",
              "      <td>181.0</td>\n",
              "      <td>0.00</td>\n",
              "      <td>C553264065</td>\n",
              "      <td>0.0</td>\n",
              "      <td>0.0</td>\n",
              "    </tr>\n",
              "    <tr>\n",
              "      <th>3</th>\n",
              "      <td>1</td>\n",
              "      <td>0</td>\n",
              "      <td>1</td>\n",
              "      <td>CASH_OUT</td>\n",
              "      <td>181.00</td>\n",
              "      <td>C840083671</td>\n",
              "      <td>181.0</td>\n",
              "      <td>0.00</td>\n",
              "      <td>C38997010</td>\n",
              "      <td>21182.0</td>\n",
              "      <td>0.0</td>\n",
              "    </tr>\n",
              "    <tr>\n",
              "      <th>4</th>\n",
              "      <td>0</td>\n",
              "      <td>0</td>\n",
              "      <td>1</td>\n",
              "      <td>PAYMENT</td>\n",
              "      <td>11668.14</td>\n",
              "      <td>C2048537720</td>\n",
              "      <td>41554.0</td>\n",
              "      <td>29885.86</td>\n",
              "      <td>M1230701703</td>\n",
              "      <td>0.0</td>\n",
              "      <td>0.0</td>\n",
              "    </tr>\n",
              "  </tbody>\n",
              "</table>\n",
              "</div>\n",
              "      <button class=\"colab-df-convert\" onclick=\"convertToInteractive('df-713bb1e1-8e35-49f8-b26f-9131008f5adf')\"\n",
              "              title=\"Convert this dataframe to an interactive table.\"\n",
              "              style=\"display:none;\">\n",
              "        \n",
              "  <svg xmlns=\"http://www.w3.org/2000/svg\" height=\"24px\"viewBox=\"0 0 24 24\"\n",
              "       width=\"24px\">\n",
              "    <path d=\"M0 0h24v24H0V0z\" fill=\"none\"/>\n",
              "    <path d=\"M18.56 5.44l.94 2.06.94-2.06 2.06-.94-2.06-.94-.94-2.06-.94 2.06-2.06.94zm-11 1L8.5 8.5l.94-2.06 2.06-.94-2.06-.94L8.5 2.5l-.94 2.06-2.06.94zm10 10l.94 2.06.94-2.06 2.06-.94-2.06-.94-.94-2.06-.94 2.06-2.06.94z\"/><path d=\"M17.41 7.96l-1.37-1.37c-.4-.4-.92-.59-1.43-.59-.52 0-1.04.2-1.43.59L10.3 9.45l-7.72 7.72c-.78.78-.78 2.05 0 2.83L4 21.41c.39.39.9.59 1.41.59.51 0 1.02-.2 1.41-.59l7.78-7.78 2.81-2.81c.8-.78.8-2.07 0-2.86zM5.41 20L4 18.59l7.72-7.72 1.47 1.35L5.41 20z\"/>\n",
              "  </svg>\n",
              "      </button>\n",
              "      \n",
              "  <style>\n",
              "    .colab-df-container {\n",
              "      display:flex;\n",
              "      flex-wrap:wrap;\n",
              "      gap: 12px;\n",
              "    }\n",
              "\n",
              "    .colab-df-convert {\n",
              "      background-color: #E8F0FE;\n",
              "      border: none;\n",
              "      border-radius: 50%;\n",
              "      cursor: pointer;\n",
              "      display: none;\n",
              "      fill: #1967D2;\n",
              "      height: 32px;\n",
              "      padding: 0 0 0 0;\n",
              "      width: 32px;\n",
              "    }\n",
              "\n",
              "    .colab-df-convert:hover {\n",
              "      background-color: #E2EBFA;\n",
              "      box-shadow: 0px 1px 2px rgba(60, 64, 67, 0.3), 0px 1px 3px 1px rgba(60, 64, 67, 0.15);\n",
              "      fill: #174EA6;\n",
              "    }\n",
              "\n",
              "    [theme=dark] .colab-df-convert {\n",
              "      background-color: #3B4455;\n",
              "      fill: #D2E3FC;\n",
              "    }\n",
              "\n",
              "    [theme=dark] .colab-df-convert:hover {\n",
              "      background-color: #434B5C;\n",
              "      box-shadow: 0px 1px 3px 1px rgba(0, 0, 0, 0.15);\n",
              "      filter: drop-shadow(0px 1px 2px rgba(0, 0, 0, 0.3));\n",
              "      fill: #FFFFFF;\n",
              "    }\n",
              "  </style>\n",
              "\n",
              "      <script>\n",
              "        const buttonEl =\n",
              "          document.querySelector('#df-713bb1e1-8e35-49f8-b26f-9131008f5adf button.colab-df-convert');\n",
              "        buttonEl.style.display =\n",
              "          google.colab.kernel.accessAllowed ? 'block' : 'none';\n",
              "\n",
              "        async function convertToInteractive(key) {\n",
              "          const element = document.querySelector('#df-713bb1e1-8e35-49f8-b26f-9131008f5adf');\n",
              "          const dataTable =\n",
              "            await google.colab.kernel.invokeFunction('convertToInteractive',\n",
              "                                                     [key], {});\n",
              "          if (!dataTable) return;\n",
              "\n",
              "          const docLinkHtml = 'Like what you see? Visit the ' +\n",
              "            '<a target=\"_blank\" href=https://colab.research.google.com/notebooks/data_table.ipynb>data table notebook</a>'\n",
              "            + ' to learn more about interactive tables.';\n",
              "          element.innerHTML = '';\n",
              "          dataTable['output_type'] = 'display_data';\n",
              "          await google.colab.output.renderOutput(dataTable, element);\n",
              "          const docLink = document.createElement('div');\n",
              "          docLink.innerHTML = docLinkHtml;\n",
              "          element.appendChild(docLink);\n",
              "        }\n",
              "      </script>\n",
              "    </div>\n",
              "  </div>\n",
              "  "
            ]
          },
          "metadata": {},
          "execution_count": 119
        }
      ]
    },
    {
      "cell_type": "code",
      "source": [
        "# Describe\n",
        "\n",
        "fraud_dataset.describe().T"
      ],
      "metadata": {
        "colab": {
          "base_uri": "https://localhost:8080/",
          "height": 300
        },
        "id": "OFyKyvyo_ZU3",
        "outputId": "569a5b62-2a83-45cf-e54d-4636e2f8dd7d"
      },
      "execution_count": null,
      "outputs": [
        {
          "output_type": "execute_result",
          "data": {
            "text/plain": [
              "                     count          mean           std   min       25%  \\\n",
              "fraude            101613.0  1.141586e-03  3.376824e-02  0.00      0.00   \n",
              "super_fraude      101613.0  0.000000e+00  0.000000e+00  0.00      0.00   \n",
              "tempo             101613.0  8.523457e+00  1.820681e+00  1.00      8.00   \n",
              "valor             101613.0  1.740901e+05  3.450199e+05  0.32  10016.59   \n",
              "saldo_inicial_c1  101613.0  9.071753e+05  2.829575e+06  0.00      0.00   \n",
              "novo_saldo_c1     101613.0  9.234992e+05  2.867319e+06  0.00      0.00   \n",
              "saldo_inicial_c2  101613.0  8.810428e+05  2.399949e+06  0.00      0.00   \n",
              "novo_saldo_c2     101613.0  1.183998e+06  2.797761e+06  0.00      0.00   \n",
              "\n",
              "                       50%         75%          max  \n",
              "fraude                0.00        0.00         1.00  \n",
              "super_fraude          0.00        0.00         0.00  \n",
              "tempo                 9.00       10.00        10.00  \n",
              "valor             53385.41   212498.40  10000000.00  \n",
              "saldo_inicial_c1  20190.47   194715.00  38939424.03  \n",
              "novo_saldo_c1         0.00   219217.76  38946233.02  \n",
              "saldo_inicial_c2  21058.00   591921.70  34008736.98  \n",
              "novo_saldo_c2     51783.43  1063121.64  38946233.02  "
            ],
            "text/html": [
              "\n",
              "  <div id=\"df-82464133-5c0e-4604-b76e-7bcb73498519\">\n",
              "    <div class=\"colab-df-container\">\n",
              "      <div>\n",
              "<style scoped>\n",
              "    .dataframe tbody tr th:only-of-type {\n",
              "        vertical-align: middle;\n",
              "    }\n",
              "\n",
              "    .dataframe tbody tr th {\n",
              "        vertical-align: top;\n",
              "    }\n",
              "\n",
              "    .dataframe thead th {\n",
              "        text-align: right;\n",
              "    }\n",
              "</style>\n",
              "<table border=\"1\" class=\"dataframe\">\n",
              "  <thead>\n",
              "    <tr style=\"text-align: right;\">\n",
              "      <th></th>\n",
              "      <th>count</th>\n",
              "      <th>mean</th>\n",
              "      <th>std</th>\n",
              "      <th>min</th>\n",
              "      <th>25%</th>\n",
              "      <th>50%</th>\n",
              "      <th>75%</th>\n",
              "      <th>max</th>\n",
              "    </tr>\n",
              "  </thead>\n",
              "  <tbody>\n",
              "    <tr>\n",
              "      <th>fraude</th>\n",
              "      <td>101613.0</td>\n",
              "      <td>1.141586e-03</td>\n",
              "      <td>3.376824e-02</td>\n",
              "      <td>0.00</td>\n",
              "      <td>0.00</td>\n",
              "      <td>0.00</td>\n",
              "      <td>0.00</td>\n",
              "      <td>1.00</td>\n",
              "    </tr>\n",
              "    <tr>\n",
              "      <th>super_fraude</th>\n",
              "      <td>101613.0</td>\n",
              "      <td>0.000000e+00</td>\n",
              "      <td>0.000000e+00</td>\n",
              "      <td>0.00</td>\n",
              "      <td>0.00</td>\n",
              "      <td>0.00</td>\n",
              "      <td>0.00</td>\n",
              "      <td>0.00</td>\n",
              "    </tr>\n",
              "    <tr>\n",
              "      <th>tempo</th>\n",
              "      <td>101613.0</td>\n",
              "      <td>8.523457e+00</td>\n",
              "      <td>1.820681e+00</td>\n",
              "      <td>1.00</td>\n",
              "      <td>8.00</td>\n",
              "      <td>9.00</td>\n",
              "      <td>10.00</td>\n",
              "      <td>10.00</td>\n",
              "    </tr>\n",
              "    <tr>\n",
              "      <th>valor</th>\n",
              "      <td>101613.0</td>\n",
              "      <td>1.740901e+05</td>\n",
              "      <td>3.450199e+05</td>\n",
              "      <td>0.32</td>\n",
              "      <td>10016.59</td>\n",
              "      <td>53385.41</td>\n",
              "      <td>212498.40</td>\n",
              "      <td>10000000.00</td>\n",
              "    </tr>\n",
              "    <tr>\n",
              "      <th>saldo_inicial_c1</th>\n",
              "      <td>101613.0</td>\n",
              "      <td>9.071753e+05</td>\n",
              "      <td>2.829575e+06</td>\n",
              "      <td>0.00</td>\n",
              "      <td>0.00</td>\n",
              "      <td>20190.47</td>\n",
              "      <td>194715.00</td>\n",
              "      <td>38939424.03</td>\n",
              "    </tr>\n",
              "    <tr>\n",
              "      <th>novo_saldo_c1</th>\n",
              "      <td>101613.0</td>\n",
              "      <td>9.234992e+05</td>\n",
              "      <td>2.867319e+06</td>\n",
              "      <td>0.00</td>\n",
              "      <td>0.00</td>\n",
              "      <td>0.00</td>\n",
              "      <td>219217.76</td>\n",
              "      <td>38946233.02</td>\n",
              "    </tr>\n",
              "    <tr>\n",
              "      <th>saldo_inicial_c2</th>\n",
              "      <td>101613.0</td>\n",
              "      <td>8.810428e+05</td>\n",
              "      <td>2.399949e+06</td>\n",
              "      <td>0.00</td>\n",
              "      <td>0.00</td>\n",
              "      <td>21058.00</td>\n",
              "      <td>591921.70</td>\n",
              "      <td>34008736.98</td>\n",
              "    </tr>\n",
              "    <tr>\n",
              "      <th>novo_saldo_c2</th>\n",
              "      <td>101613.0</td>\n",
              "      <td>1.183998e+06</td>\n",
              "      <td>2.797761e+06</td>\n",
              "      <td>0.00</td>\n",
              "      <td>0.00</td>\n",
              "      <td>51783.43</td>\n",
              "      <td>1063121.64</td>\n",
              "      <td>38946233.02</td>\n",
              "    </tr>\n",
              "  </tbody>\n",
              "</table>\n",
              "</div>\n",
              "      <button class=\"colab-df-convert\" onclick=\"convertToInteractive('df-82464133-5c0e-4604-b76e-7bcb73498519')\"\n",
              "              title=\"Convert this dataframe to an interactive table.\"\n",
              "              style=\"display:none;\">\n",
              "        \n",
              "  <svg xmlns=\"http://www.w3.org/2000/svg\" height=\"24px\"viewBox=\"0 0 24 24\"\n",
              "       width=\"24px\">\n",
              "    <path d=\"M0 0h24v24H0V0z\" fill=\"none\"/>\n",
              "    <path d=\"M18.56 5.44l.94 2.06.94-2.06 2.06-.94-2.06-.94-.94-2.06-.94 2.06-2.06.94zm-11 1L8.5 8.5l.94-2.06 2.06-.94-2.06-.94L8.5 2.5l-.94 2.06-2.06.94zm10 10l.94 2.06.94-2.06 2.06-.94-2.06-.94-.94-2.06-.94 2.06-2.06.94z\"/><path d=\"M17.41 7.96l-1.37-1.37c-.4-.4-.92-.59-1.43-.59-.52 0-1.04.2-1.43.59L10.3 9.45l-7.72 7.72c-.78.78-.78 2.05 0 2.83L4 21.41c.39.39.9.59 1.41.59.51 0 1.02-.2 1.41-.59l7.78-7.78 2.81-2.81c.8-.78.8-2.07 0-2.86zM5.41 20L4 18.59l7.72-7.72 1.47 1.35L5.41 20z\"/>\n",
              "  </svg>\n",
              "      </button>\n",
              "      \n",
              "  <style>\n",
              "    .colab-df-container {\n",
              "      display:flex;\n",
              "      flex-wrap:wrap;\n",
              "      gap: 12px;\n",
              "    }\n",
              "\n",
              "    .colab-df-convert {\n",
              "      background-color: #E8F0FE;\n",
              "      border: none;\n",
              "      border-radius: 50%;\n",
              "      cursor: pointer;\n",
              "      display: none;\n",
              "      fill: #1967D2;\n",
              "      height: 32px;\n",
              "      padding: 0 0 0 0;\n",
              "      width: 32px;\n",
              "    }\n",
              "\n",
              "    .colab-df-convert:hover {\n",
              "      background-color: #E2EBFA;\n",
              "      box-shadow: 0px 1px 2px rgba(60, 64, 67, 0.3), 0px 1px 3px 1px rgba(60, 64, 67, 0.15);\n",
              "      fill: #174EA6;\n",
              "    }\n",
              "\n",
              "    [theme=dark] .colab-df-convert {\n",
              "      background-color: #3B4455;\n",
              "      fill: #D2E3FC;\n",
              "    }\n",
              "\n",
              "    [theme=dark] .colab-df-convert:hover {\n",
              "      background-color: #434B5C;\n",
              "      box-shadow: 0px 1px 3px 1px rgba(0, 0, 0, 0.15);\n",
              "      filter: drop-shadow(0px 1px 2px rgba(0, 0, 0, 0.3));\n",
              "      fill: #FFFFFF;\n",
              "    }\n",
              "  </style>\n",
              "\n",
              "      <script>\n",
              "        const buttonEl =\n",
              "          document.querySelector('#df-82464133-5c0e-4604-b76e-7bcb73498519 button.colab-df-convert');\n",
              "        buttonEl.style.display =\n",
              "          google.colab.kernel.accessAllowed ? 'block' : 'none';\n",
              "\n",
              "        async function convertToInteractive(key) {\n",
              "          const element = document.querySelector('#df-82464133-5c0e-4604-b76e-7bcb73498519');\n",
              "          const dataTable =\n",
              "            await google.colab.kernel.invokeFunction('convertToInteractive',\n",
              "                                                     [key], {});\n",
              "          if (!dataTable) return;\n",
              "\n",
              "          const docLinkHtml = 'Like what you see? Visit the ' +\n",
              "            '<a target=\"_blank\" href=https://colab.research.google.com/notebooks/data_table.ipynb>data table notebook</a>'\n",
              "            + ' to learn more about interactive tables.';\n",
              "          element.innerHTML = '';\n",
              "          dataTable['output_type'] = 'display_data';\n",
              "          await google.colab.output.renderOutput(dataTable, element);\n",
              "          const docLink = document.createElement('div');\n",
              "          docLink.innerHTML = docLinkHtml;\n",
              "          element.appendChild(docLink);\n",
              "        }\n",
              "      </script>\n",
              "    </div>\n",
              "  </div>\n",
              "  "
            ]
          },
          "metadata": {},
          "execution_count": 120
        }
      ]
    },
    {
      "cell_type": "markdown",
      "source": [
        "## Encoding"
      ],
      "metadata": {
        "id": "qQ46Y1LdIvWJ"
      }
    },
    {
      "cell_type": "code",
      "source": [
        "fraud_dataset = pd.get_dummies(fraud_dataset,columns=['tipo'])\n",
        "fraud_dataset.head()"
      ],
      "metadata": {
        "colab": {
          "base_uri": "https://localhost:8080/",
          "height": 270
        },
        "id": "WIit6sdGJGfu",
        "outputId": "b4c0dec9-620b-4b36-b102-b337de6c5de6"
      },
      "execution_count": null,
      "outputs": [
        {
          "output_type": "execute_result",
          "data": {
            "text/plain": [
              "   fraude  super_fraude  tempo     valor     cliente1  saldo_inicial_c1  \\\n",
              "0       0             0      1   9839.64  C1231006815          170136.0   \n",
              "1       0             0      1   1864.28  C1666544295           21249.0   \n",
              "2       1             0      1    181.00  C1305486145             181.0   \n",
              "3       1             0      1    181.00   C840083671             181.0   \n",
              "4       0             0      1  11668.14  C2048537720           41554.0   \n",
              "\n",
              "   novo_saldo_c1     cliente2  saldo_inicial_c2  novo_saldo_c2  tipo_CASH_IN  \\\n",
              "0      160296.36  M1979787155               0.0            0.0             0   \n",
              "1       19384.72  M2044282225               0.0            0.0             0   \n",
              "2           0.00   C553264065               0.0            0.0             0   \n",
              "3           0.00    C38997010           21182.0            0.0             0   \n",
              "4       29885.86  M1230701703               0.0            0.0             0   \n",
              "\n",
              "   tipo_CASH_OUT  tipo_DEBIT  tipo_PAYMENT  tipo_TRANSFER  \n",
              "0              0           0             1              0  \n",
              "1              0           0             1              0  \n",
              "2              0           0             0              1  \n",
              "3              1           0             0              0  \n",
              "4              0           0             1              0  "
            ],
            "text/html": [
              "\n",
              "  <div id=\"df-a5ab7f14-5d8b-46fd-baf7-592819df000f\">\n",
              "    <div class=\"colab-df-container\">\n",
              "      <div>\n",
              "<style scoped>\n",
              "    .dataframe tbody tr th:only-of-type {\n",
              "        vertical-align: middle;\n",
              "    }\n",
              "\n",
              "    .dataframe tbody tr th {\n",
              "        vertical-align: top;\n",
              "    }\n",
              "\n",
              "    .dataframe thead th {\n",
              "        text-align: right;\n",
              "    }\n",
              "</style>\n",
              "<table border=\"1\" class=\"dataframe\">\n",
              "  <thead>\n",
              "    <tr style=\"text-align: right;\">\n",
              "      <th></th>\n",
              "      <th>fraude</th>\n",
              "      <th>super_fraude</th>\n",
              "      <th>tempo</th>\n",
              "      <th>valor</th>\n",
              "      <th>cliente1</th>\n",
              "      <th>saldo_inicial_c1</th>\n",
              "      <th>novo_saldo_c1</th>\n",
              "      <th>cliente2</th>\n",
              "      <th>saldo_inicial_c2</th>\n",
              "      <th>novo_saldo_c2</th>\n",
              "      <th>tipo_CASH_IN</th>\n",
              "      <th>tipo_CASH_OUT</th>\n",
              "      <th>tipo_DEBIT</th>\n",
              "      <th>tipo_PAYMENT</th>\n",
              "      <th>tipo_TRANSFER</th>\n",
              "    </tr>\n",
              "  </thead>\n",
              "  <tbody>\n",
              "    <tr>\n",
              "      <th>0</th>\n",
              "      <td>0</td>\n",
              "      <td>0</td>\n",
              "      <td>1</td>\n",
              "      <td>9839.64</td>\n",
              "      <td>C1231006815</td>\n",
              "      <td>170136.0</td>\n",
              "      <td>160296.36</td>\n",
              "      <td>M1979787155</td>\n",
              "      <td>0.0</td>\n",
              "      <td>0.0</td>\n",
              "      <td>0</td>\n",
              "      <td>0</td>\n",
              "      <td>0</td>\n",
              "      <td>1</td>\n",
              "      <td>0</td>\n",
              "    </tr>\n",
              "    <tr>\n",
              "      <th>1</th>\n",
              "      <td>0</td>\n",
              "      <td>0</td>\n",
              "      <td>1</td>\n",
              "      <td>1864.28</td>\n",
              "      <td>C1666544295</td>\n",
              "      <td>21249.0</td>\n",
              "      <td>19384.72</td>\n",
              "      <td>M2044282225</td>\n",
              "      <td>0.0</td>\n",
              "      <td>0.0</td>\n",
              "      <td>0</td>\n",
              "      <td>0</td>\n",
              "      <td>0</td>\n",
              "      <td>1</td>\n",
              "      <td>0</td>\n",
              "    </tr>\n",
              "    <tr>\n",
              "      <th>2</th>\n",
              "      <td>1</td>\n",
              "      <td>0</td>\n",
              "      <td>1</td>\n",
              "      <td>181.00</td>\n",
              "      <td>C1305486145</td>\n",
              "      <td>181.0</td>\n",
              "      <td>0.00</td>\n",
              "      <td>C553264065</td>\n",
              "      <td>0.0</td>\n",
              "      <td>0.0</td>\n",
              "      <td>0</td>\n",
              "      <td>0</td>\n",
              "      <td>0</td>\n",
              "      <td>0</td>\n",
              "      <td>1</td>\n",
              "    </tr>\n",
              "    <tr>\n",
              "      <th>3</th>\n",
              "      <td>1</td>\n",
              "      <td>0</td>\n",
              "      <td>1</td>\n",
              "      <td>181.00</td>\n",
              "      <td>C840083671</td>\n",
              "      <td>181.0</td>\n",
              "      <td>0.00</td>\n",
              "      <td>C38997010</td>\n",
              "      <td>21182.0</td>\n",
              "      <td>0.0</td>\n",
              "      <td>0</td>\n",
              "      <td>1</td>\n",
              "      <td>0</td>\n",
              "      <td>0</td>\n",
              "      <td>0</td>\n",
              "    </tr>\n",
              "    <tr>\n",
              "      <th>4</th>\n",
              "      <td>0</td>\n",
              "      <td>0</td>\n",
              "      <td>1</td>\n",
              "      <td>11668.14</td>\n",
              "      <td>C2048537720</td>\n",
              "      <td>41554.0</td>\n",
              "      <td>29885.86</td>\n",
              "      <td>M1230701703</td>\n",
              "      <td>0.0</td>\n",
              "      <td>0.0</td>\n",
              "      <td>0</td>\n",
              "      <td>0</td>\n",
              "      <td>0</td>\n",
              "      <td>1</td>\n",
              "      <td>0</td>\n",
              "    </tr>\n",
              "  </tbody>\n",
              "</table>\n",
              "</div>\n",
              "      <button class=\"colab-df-convert\" onclick=\"convertToInteractive('df-a5ab7f14-5d8b-46fd-baf7-592819df000f')\"\n",
              "              title=\"Convert this dataframe to an interactive table.\"\n",
              "              style=\"display:none;\">\n",
              "        \n",
              "  <svg xmlns=\"http://www.w3.org/2000/svg\" height=\"24px\"viewBox=\"0 0 24 24\"\n",
              "       width=\"24px\">\n",
              "    <path d=\"M0 0h24v24H0V0z\" fill=\"none\"/>\n",
              "    <path d=\"M18.56 5.44l.94 2.06.94-2.06 2.06-.94-2.06-.94-.94-2.06-.94 2.06-2.06.94zm-11 1L8.5 8.5l.94-2.06 2.06-.94-2.06-.94L8.5 2.5l-.94 2.06-2.06.94zm10 10l.94 2.06.94-2.06 2.06-.94-2.06-.94-.94-2.06-.94 2.06-2.06.94z\"/><path d=\"M17.41 7.96l-1.37-1.37c-.4-.4-.92-.59-1.43-.59-.52 0-1.04.2-1.43.59L10.3 9.45l-7.72 7.72c-.78.78-.78 2.05 0 2.83L4 21.41c.39.39.9.59 1.41.59.51 0 1.02-.2 1.41-.59l7.78-7.78 2.81-2.81c.8-.78.8-2.07 0-2.86zM5.41 20L4 18.59l7.72-7.72 1.47 1.35L5.41 20z\"/>\n",
              "  </svg>\n",
              "      </button>\n",
              "      \n",
              "  <style>\n",
              "    .colab-df-container {\n",
              "      display:flex;\n",
              "      flex-wrap:wrap;\n",
              "      gap: 12px;\n",
              "    }\n",
              "\n",
              "    .colab-df-convert {\n",
              "      background-color: #E8F0FE;\n",
              "      border: none;\n",
              "      border-radius: 50%;\n",
              "      cursor: pointer;\n",
              "      display: none;\n",
              "      fill: #1967D2;\n",
              "      height: 32px;\n",
              "      padding: 0 0 0 0;\n",
              "      width: 32px;\n",
              "    }\n",
              "\n",
              "    .colab-df-convert:hover {\n",
              "      background-color: #E2EBFA;\n",
              "      box-shadow: 0px 1px 2px rgba(60, 64, 67, 0.3), 0px 1px 3px 1px rgba(60, 64, 67, 0.15);\n",
              "      fill: #174EA6;\n",
              "    }\n",
              "\n",
              "    [theme=dark] .colab-df-convert {\n",
              "      background-color: #3B4455;\n",
              "      fill: #D2E3FC;\n",
              "    }\n",
              "\n",
              "    [theme=dark] .colab-df-convert:hover {\n",
              "      background-color: #434B5C;\n",
              "      box-shadow: 0px 1px 3px 1px rgba(0, 0, 0, 0.15);\n",
              "      filter: drop-shadow(0px 1px 2px rgba(0, 0, 0, 0.3));\n",
              "      fill: #FFFFFF;\n",
              "    }\n",
              "  </style>\n",
              "\n",
              "      <script>\n",
              "        const buttonEl =\n",
              "          document.querySelector('#df-a5ab7f14-5d8b-46fd-baf7-592819df000f button.colab-df-convert');\n",
              "        buttonEl.style.display =\n",
              "          google.colab.kernel.accessAllowed ? 'block' : 'none';\n",
              "\n",
              "        async function convertToInteractive(key) {\n",
              "          const element = document.querySelector('#df-a5ab7f14-5d8b-46fd-baf7-592819df000f');\n",
              "          const dataTable =\n",
              "            await google.colab.kernel.invokeFunction('convertToInteractive',\n",
              "                                                     [key], {});\n",
              "          if (!dataTable) return;\n",
              "\n",
              "          const docLinkHtml = 'Like what you see? Visit the ' +\n",
              "            '<a target=\"_blank\" href=https://colab.research.google.com/notebooks/data_table.ipynb>data table notebook</a>'\n",
              "            + ' to learn more about interactive tables.';\n",
              "          element.innerHTML = '';\n",
              "          dataTable['output_type'] = 'display_data';\n",
              "          await google.colab.output.renderOutput(dataTable, element);\n",
              "          const docLink = document.createElement('div');\n",
              "          docLink.innerHTML = docLinkHtml;\n",
              "          element.appendChild(docLink);\n",
              "        }\n",
              "      </script>\n",
              "    </div>\n",
              "  </div>\n",
              "  "
            ]
          },
          "metadata": {},
          "execution_count": 121
        }
      ]
    },
    {
      "cell_type": "code",
      "source": [
        "fraud_dataset = fraud_dataset.drop(columns=['super_fraude','cliente1','cliente2'])\n",
        "fraud_dataset.head()"
      ],
      "metadata": {
        "colab": {
          "base_uri": "https://localhost:8080/",
          "height": 270
        },
        "id": "oPquDVFaHwIL",
        "outputId": "28d27b4a-862c-4753-c9f8-d28a2f3cf4e3"
      },
      "execution_count": null,
      "outputs": [
        {
          "output_type": "execute_result",
          "data": {
            "text/plain": [
              "   fraude  tempo     valor  saldo_inicial_c1  novo_saldo_c1  saldo_inicial_c2  \\\n",
              "0       0      1   9839.64          170136.0      160296.36               0.0   \n",
              "1       0      1   1864.28           21249.0       19384.72               0.0   \n",
              "2       1      1    181.00             181.0           0.00               0.0   \n",
              "3       1      1    181.00             181.0           0.00           21182.0   \n",
              "4       0      1  11668.14           41554.0       29885.86               0.0   \n",
              "\n",
              "   novo_saldo_c2  tipo_CASH_IN  tipo_CASH_OUT  tipo_DEBIT  tipo_PAYMENT  \\\n",
              "0            0.0             0              0           0             1   \n",
              "1            0.0             0              0           0             1   \n",
              "2            0.0             0              0           0             0   \n",
              "3            0.0             0              1           0             0   \n",
              "4            0.0             0              0           0             1   \n",
              "\n",
              "   tipo_TRANSFER  \n",
              "0              0  \n",
              "1              0  \n",
              "2              1  \n",
              "3              0  \n",
              "4              0  "
            ],
            "text/html": [
              "\n",
              "  <div id=\"df-4bacd611-b686-4d24-a2ea-69ffca5d454c\">\n",
              "    <div class=\"colab-df-container\">\n",
              "      <div>\n",
              "<style scoped>\n",
              "    .dataframe tbody tr th:only-of-type {\n",
              "        vertical-align: middle;\n",
              "    }\n",
              "\n",
              "    .dataframe tbody tr th {\n",
              "        vertical-align: top;\n",
              "    }\n",
              "\n",
              "    .dataframe thead th {\n",
              "        text-align: right;\n",
              "    }\n",
              "</style>\n",
              "<table border=\"1\" class=\"dataframe\">\n",
              "  <thead>\n",
              "    <tr style=\"text-align: right;\">\n",
              "      <th></th>\n",
              "      <th>fraude</th>\n",
              "      <th>tempo</th>\n",
              "      <th>valor</th>\n",
              "      <th>saldo_inicial_c1</th>\n",
              "      <th>novo_saldo_c1</th>\n",
              "      <th>saldo_inicial_c2</th>\n",
              "      <th>novo_saldo_c2</th>\n",
              "      <th>tipo_CASH_IN</th>\n",
              "      <th>tipo_CASH_OUT</th>\n",
              "      <th>tipo_DEBIT</th>\n",
              "      <th>tipo_PAYMENT</th>\n",
              "      <th>tipo_TRANSFER</th>\n",
              "    </tr>\n",
              "  </thead>\n",
              "  <tbody>\n",
              "    <tr>\n",
              "      <th>0</th>\n",
              "      <td>0</td>\n",
              "      <td>1</td>\n",
              "      <td>9839.64</td>\n",
              "      <td>170136.0</td>\n",
              "      <td>160296.36</td>\n",
              "      <td>0.0</td>\n",
              "      <td>0.0</td>\n",
              "      <td>0</td>\n",
              "      <td>0</td>\n",
              "      <td>0</td>\n",
              "      <td>1</td>\n",
              "      <td>0</td>\n",
              "    </tr>\n",
              "    <tr>\n",
              "      <th>1</th>\n",
              "      <td>0</td>\n",
              "      <td>1</td>\n",
              "      <td>1864.28</td>\n",
              "      <td>21249.0</td>\n",
              "      <td>19384.72</td>\n",
              "      <td>0.0</td>\n",
              "      <td>0.0</td>\n",
              "      <td>0</td>\n",
              "      <td>0</td>\n",
              "      <td>0</td>\n",
              "      <td>1</td>\n",
              "      <td>0</td>\n",
              "    </tr>\n",
              "    <tr>\n",
              "      <th>2</th>\n",
              "      <td>1</td>\n",
              "      <td>1</td>\n",
              "      <td>181.00</td>\n",
              "      <td>181.0</td>\n",
              "      <td>0.00</td>\n",
              "      <td>0.0</td>\n",
              "      <td>0.0</td>\n",
              "      <td>0</td>\n",
              "      <td>0</td>\n",
              "      <td>0</td>\n",
              "      <td>0</td>\n",
              "      <td>1</td>\n",
              "    </tr>\n",
              "    <tr>\n",
              "      <th>3</th>\n",
              "      <td>1</td>\n",
              "      <td>1</td>\n",
              "      <td>181.00</td>\n",
              "      <td>181.0</td>\n",
              "      <td>0.00</td>\n",
              "      <td>21182.0</td>\n",
              "      <td>0.0</td>\n",
              "      <td>0</td>\n",
              "      <td>1</td>\n",
              "      <td>0</td>\n",
              "      <td>0</td>\n",
              "      <td>0</td>\n",
              "    </tr>\n",
              "    <tr>\n",
              "      <th>4</th>\n",
              "      <td>0</td>\n",
              "      <td>1</td>\n",
              "      <td>11668.14</td>\n",
              "      <td>41554.0</td>\n",
              "      <td>29885.86</td>\n",
              "      <td>0.0</td>\n",
              "      <td>0.0</td>\n",
              "      <td>0</td>\n",
              "      <td>0</td>\n",
              "      <td>0</td>\n",
              "      <td>1</td>\n",
              "      <td>0</td>\n",
              "    </tr>\n",
              "  </tbody>\n",
              "</table>\n",
              "</div>\n",
              "      <button class=\"colab-df-convert\" onclick=\"convertToInteractive('df-4bacd611-b686-4d24-a2ea-69ffca5d454c')\"\n",
              "              title=\"Convert this dataframe to an interactive table.\"\n",
              "              style=\"display:none;\">\n",
              "        \n",
              "  <svg xmlns=\"http://www.w3.org/2000/svg\" height=\"24px\"viewBox=\"0 0 24 24\"\n",
              "       width=\"24px\">\n",
              "    <path d=\"M0 0h24v24H0V0z\" fill=\"none\"/>\n",
              "    <path d=\"M18.56 5.44l.94 2.06.94-2.06 2.06-.94-2.06-.94-.94-2.06-.94 2.06-2.06.94zm-11 1L8.5 8.5l.94-2.06 2.06-.94-2.06-.94L8.5 2.5l-.94 2.06-2.06.94zm10 10l.94 2.06.94-2.06 2.06-.94-2.06-.94-.94-2.06-.94 2.06-2.06.94z\"/><path d=\"M17.41 7.96l-1.37-1.37c-.4-.4-.92-.59-1.43-.59-.52 0-1.04.2-1.43.59L10.3 9.45l-7.72 7.72c-.78.78-.78 2.05 0 2.83L4 21.41c.39.39.9.59 1.41.59.51 0 1.02-.2 1.41-.59l7.78-7.78 2.81-2.81c.8-.78.8-2.07 0-2.86zM5.41 20L4 18.59l7.72-7.72 1.47 1.35L5.41 20z\"/>\n",
              "  </svg>\n",
              "      </button>\n",
              "      \n",
              "  <style>\n",
              "    .colab-df-container {\n",
              "      display:flex;\n",
              "      flex-wrap:wrap;\n",
              "      gap: 12px;\n",
              "    }\n",
              "\n",
              "    .colab-df-convert {\n",
              "      background-color: #E8F0FE;\n",
              "      border: none;\n",
              "      border-radius: 50%;\n",
              "      cursor: pointer;\n",
              "      display: none;\n",
              "      fill: #1967D2;\n",
              "      height: 32px;\n",
              "      padding: 0 0 0 0;\n",
              "      width: 32px;\n",
              "    }\n",
              "\n",
              "    .colab-df-convert:hover {\n",
              "      background-color: #E2EBFA;\n",
              "      box-shadow: 0px 1px 2px rgba(60, 64, 67, 0.3), 0px 1px 3px 1px rgba(60, 64, 67, 0.15);\n",
              "      fill: #174EA6;\n",
              "    }\n",
              "\n",
              "    [theme=dark] .colab-df-convert {\n",
              "      background-color: #3B4455;\n",
              "      fill: #D2E3FC;\n",
              "    }\n",
              "\n",
              "    [theme=dark] .colab-df-convert:hover {\n",
              "      background-color: #434B5C;\n",
              "      box-shadow: 0px 1px 3px 1px rgba(0, 0, 0, 0.15);\n",
              "      filter: drop-shadow(0px 1px 2px rgba(0, 0, 0, 0.3));\n",
              "      fill: #FFFFFF;\n",
              "    }\n",
              "  </style>\n",
              "\n",
              "      <script>\n",
              "        const buttonEl =\n",
              "          document.querySelector('#df-4bacd611-b686-4d24-a2ea-69ffca5d454c button.colab-df-convert');\n",
              "        buttonEl.style.display =\n",
              "          google.colab.kernel.accessAllowed ? 'block' : 'none';\n",
              "\n",
              "        async function convertToInteractive(key) {\n",
              "          const element = document.querySelector('#df-4bacd611-b686-4d24-a2ea-69ffca5d454c');\n",
              "          const dataTable =\n",
              "            await google.colab.kernel.invokeFunction('convertToInteractive',\n",
              "                                                     [key], {});\n",
              "          if (!dataTable) return;\n",
              "\n",
              "          const docLinkHtml = 'Like what you see? Visit the ' +\n",
              "            '<a target=\"_blank\" href=https://colab.research.google.com/notebooks/data_table.ipynb>data table notebook</a>'\n",
              "            + ' to learn more about interactive tables.';\n",
              "          element.innerHTML = '';\n",
              "          dataTable['output_type'] = 'display_data';\n",
              "          await google.colab.output.renderOutput(dataTable, element);\n",
              "          const docLink = document.createElement('div');\n",
              "          docLink.innerHTML = docLinkHtml;\n",
              "          element.appendChild(docLink);\n",
              "        }\n",
              "      </script>\n",
              "    </div>\n",
              "  </div>\n",
              "  "
            ]
          },
          "metadata": {},
          "execution_count": 122
        }
      ]
    },
    {
      "cell_type": "markdown",
      "source": [
        "## Regressão logistica"
      ],
      "metadata": {
        "id": "0tPblKQRWCPU"
      }
    },
    {
      "cell_type": "code",
      "source": [
        "from sklearn.model_selection import train_test_split\n",
        "from sklearn.linear_model import LogisticRegression\n",
        "from sklearn.metrics import f1_score,recall_score,precision_score,confusion_matrix\n",
        "from sklearn.metrics import accuracy_score,classification_report,ConfusionMatrixDisplay\n",
        "from sklearn.metrics import roc_curve, roc_auc_score\n",
        "from sklearn.datasets import make_classification"
      ],
      "metadata": {
        "id": "aQvQq-BCH8Uu"
      },
      "execution_count": null,
      "outputs": []
    },
    {
      "cell_type": "code",
      "source": [
        "# \n",
        "\n",
        "def compile_model(dataset,column):\n",
        "\n",
        "  x = dataset.drop(column,axis=1)\n",
        "  y = dataset[column]\n",
        "  X_train, X_test, y_train, y_test = train_test_split(x, y, test_size=0.25, random_state=42)\n",
        "  LR = LogisticRegression(max_iter=1000, random_state=42, solver=\"lbfgs\")\n",
        "  LR.fit(X_train, y_train)\n",
        "  y_pred = LR.predict(X_test)\n",
        "  print(f'accuracy_score: {accuracy_score(y_test,y_pred)}')\n",
        "  print(f'recall_score: {recall_score(y_test,y_pred)}')\n",
        "  print(f'precision_score: {precision_score(y_test,y_pred)}')\n",
        "  print(f'f1_score: {f1_score(y_test,y_pred)}')"
      ],
      "metadata": {
        "id": "EKk__sVCVx_g"
      },
      "execution_count": null,
      "outputs": []
    },
    {
      "cell_type": "code",
      "source": [
        "x = fraud_dataset.drop('fraude',axis=1)\n",
        "y = fraud_dataset['fraude']"
      ],
      "metadata": {
        "id": "SuB8E9goWBvm"
      },
      "execution_count": null,
      "outputs": []
    },
    {
      "cell_type": "code",
      "source": [
        "X_train, X_test, y_train, y_test = train_test_split(x, y, test_size=0.25, random_state=42)"
      ],
      "metadata": {
        "id": "9E45TNAHJDwV"
      },
      "execution_count": null,
      "outputs": []
    },
    {
      "cell_type": "code",
      "source": [
        "LR = LogisticRegression(max_iter=1000, random_state=42, solver=\"lbfgs\")\n",
        "LR.fit(X_train, y_train)\n",
        "y_pred = LR.predict(X_test)"
      ],
      "metadata": {
        "id": "TbHkUjjGJt8Q"
      },
      "execution_count": null,
      "outputs": []
    },
    {
      "cell_type": "code",
      "source": [
        "print(accuracy_score(y_test,y_pred))\n",
        "print(recall_score(y_test,y_pred))\n",
        "print(precision_score(y_test,y_pred))\n",
        "print(f1_score(y_test,y_pred))"
      ],
      "metadata": {
        "colab": {
          "base_uri": "https://localhost:8080/"
        },
        "id": "2XG5B9-eK0RM",
        "outputId": "add78667-2a2b-4c20-cf5e-e8ead87f06ae"
      },
      "execution_count": null,
      "outputs": [
        {
          "output_type": "stream",
          "name": "stdout",
          "text": [
            "0.9989765391276965\n",
            "0.043478260869565216\n",
            "0.2\n",
            "0.07142857142857142\n"
          ]
        }
      ]
    },
    {
      "cell_type": "code",
      "source": [
        "print(classification_report(y_test,y_pred))"
      ],
      "metadata": {
        "colab": {
          "base_uri": "https://localhost:8080/"
        },
        "id": "adkDWNXeKiBB",
        "outputId": "836d372e-d3ad-410a-974c-fcc0dced6098"
      },
      "execution_count": null,
      "outputs": [
        {
          "output_type": "stream",
          "name": "stdout",
          "text": [
            "              precision    recall  f1-score   support\n",
            "\n",
            "           0       1.00      1.00      1.00     25381\n",
            "           1       0.20      0.04      0.07        23\n",
            "\n",
            "    accuracy                           1.00     25404\n",
            "   macro avg       0.60      0.52      0.54     25404\n",
            "weighted avg       1.00      1.00      1.00     25404\n",
            "\n"
          ]
        }
      ]
    },
    {
      "cell_type": "code",
      "source": [
        "cm = confusion_matrix(y_test,y_pred)\n",
        "disp = ConfusionMatrixDisplay(confusion_matrix=cm)\n",
        "disp.plot()"
      ],
      "metadata": {
        "colab": {
          "base_uri": "https://localhost:8080/",
          "height": 514
        },
        "id": "CXx07Vq3KqA0",
        "outputId": "01e38af9-9a4d-4511-d93b-8351b6028a9b"
      },
      "execution_count": null,
      "outputs": [
        {
          "output_type": "execute_result",
          "data": {
            "text/plain": [
              "<sklearn.metrics._plot.confusion_matrix.ConfusionMatrixDisplay at 0x7f4ac22fe4d0>"
            ]
          },
          "metadata": {},
          "execution_count": 130
        },
        {
          "output_type": "display_data",
          "data": {
            "text/plain": [
              "<Figure size 864x576 with 2 Axes>"
            ],
            "image/png": "[encoded data removed]"
          },
          "metadata": {
            "needs_background": "light"
          }
        }
      ]
    },
    {
      "cell_type": "code",
      "source": [
        "y_pred"
      ],
      "metadata": {
        "colab": {
          "base_uri": "https://localhost:8080/"
        },
        "id": "KkBJ4igUNjbT",
        "outputId": "6328ab05-eb23-4dab-b8e7-27b6f7205d09"
      },
      "execution_count": null,
      "outputs": [
        {
          "output_type": "execute_result",
          "data": {
            "text/plain": [
              "array([0, 0, 0, ..., 0, 0, 0])"
            ]
          },
          "metadata": {},
          "execution_count": 131
        }
      ]
    },
    {
      "cell_type": "markdown",
      "source": [
        "- https://towardsdatascience.com/predict-vs-predict-proba-scikit-learn-bdc45daa5972"
      ],
      "metadata": {
        "id": "rXbNBs1lRF0f"
      }
    },
    {
      "cell_type": "code",
      "source": [
        "y_pred_proba = LR.predict_proba(X_test)[::,1]\n",
        "y_pred_proba"
      ],
      "metadata": {
        "colab": {
          "base_uri": "https://localhost:8080/"
        },
        "id": "rWZaLirLMv2M",
        "outputId": "d7786dc3-3ccf-426e-a193-51facffdc89c"
      },
      "execution_count": null,
      "outputs": [
        {
          "output_type": "execute_result",
          "data": {
            "text/plain": [
              "array([1.04689952e-01, 1.34611381e-04, 5.23848833e-05, ...,\n",
              "       1.23888077e-04, 1.63349453e-04, 1.03311317e-04])"
            ]
          },
          "metadata": {},
          "execution_count": 132
        }
      ]
    },
    {
      "cell_type": "code",
      "source": [
        "fpr, tpr, _ = roc_curve(y_test,y_pred_proba)\n",
        "auc = roc_auc_score(y_test,y_pred_proba)\n",
        "\n",
        "plt.rcParams['figure.figsize'] = (12,8)"
      ],
      "metadata": {
        "id": "iZ5MsXTjNYAg"
      },
      "execution_count": null,
      "outputs": []
    },
    {
      "cell_type": "code",
      "source": [
        "plt.plot(fpr, tpr, label=f'LR, AUC={round(auc,2)}')\n",
        "plt.plot([0,1], [0,1], color='red', lw=2, linestyle='--')\n",
        "plt.legend()"
      ],
      "metadata": {
        "colab": {
          "base_uri": "https://localhost:8080/",
          "height": 500
        },
        "id": "SqV9ZrGtOQJX",
        "outputId": "d8dd6762-7ef6-44a8-fa8d-2dcbc3d796ae"
      },
      "execution_count": null,
      "outputs": [
        {
          "output_type": "execute_result",
          "data": {
            "text/plain": [
              "<matplotlib.legend.Legend at 0x7f4ac22b2d90>"
            ]
          },
          "metadata": {},
          "execution_count": 134
        },
        {
          "output_type": "display_data",
          "data": {
            "text/plain": [
              "<Figure size 864x576 with 1 Axes>"
            ],
            "image/png": "[encoded data removed]"
          },
          "metadata": {
            "needs_background": "light"
          }
        }
      ]
    },
    {
      "cell_type": "markdown",
      "source": [
        "## Balanceado os dados"
      ],
      "metadata": {
        "id": "Yb_sUut5UCrO"
      }
    },
    {
      "cell_type": "code",
      "source": [
        "!pip install -U imbalanced-learn -qq"
      ],
      "metadata": {
        "id": "aIU9_f3uO9QI"
      },
      "execution_count": null,
      "outputs": []
    },
    {
      "cell_type": "code",
      "source": [
        "from imblearn.over_sampling import SMOTE"
      ],
      "metadata": {
        "id": "aOd_CXnMUK9h"
      },
      "execution_count": null,
      "outputs": []
    },
    {
      "cell_type": "code",
      "source": [
        "smote = SMOTE(random_state=42)"
      ],
      "metadata": {
        "id": "x_a0YsHjU4Nf"
      },
      "execution_count": null,
      "outputs": []
    },
    {
      "cell_type": "code",
      "source": [
        "x_resampled, y_resampled = smote.fit_resample(x,y)"
      ],
      "metadata": {
        "id": "oFyjTGL_UnPr"
      },
      "execution_count": null,
      "outputs": []
    },
    {
      "cell_type": "code",
      "source": [
        "x_resampled"
      ],
      "metadata": {
        "colab": {
          "base_uri": "https://localhost:8080/",
          "height": 488
        },
        "id": "d7LZpv3NVZ7H",
        "outputId": "72078678-b6fe-48ce-d4cb-7a9deabb0d84"
      },
      "execution_count": null,
      "outputs": [
        {
          "output_type": "execute_result",
          "data": {
            "text/plain": [
              "        tempo          valor  saldo_inicial_c1  novo_saldo_c1  \\\n",
              "0           1    9839.640000     170136.000000      160296.36   \n",
              "1           1    1864.280000      21249.000000       19384.72   \n",
              "2           1     181.000000        181.000000           0.00   \n",
              "3           1     181.000000        181.000000           0.00   \n",
              "4           1   11668.140000      41554.000000       29885.86   \n",
              "...       ...            ...               ...            ...   \n",
              "202989      5   17608.962863      17608.962863           0.00   \n",
              "202990      7   12116.291013      12116.291013           0.00   \n",
              "202991      1  231612.880715     231612.880715           0.00   \n",
              "202992      9  547325.144758     547325.144758           0.00   \n",
              "202993      4  159298.594420     159298.594420           0.00   \n",
              "\n",
              "        saldo_inicial_c2  novo_saldo_c2  tipo_CASH_IN  tipo_CASH_OUT  \\\n",
              "0               0.000000       0.000000             0              0   \n",
              "1               0.000000       0.000000             0              0   \n",
              "2               0.000000       0.000000             0              0   \n",
              "3           21182.000000       0.000000             0              1   \n",
              "4               0.000000       0.000000             0              0   \n",
              "...                  ...            ...           ...            ...   \n",
              "202989          0.000000       0.000000             0              0   \n",
              "202990          0.000000       0.000000             0              0   \n",
              "202991       1945.589357    9370.603471             0              0   \n",
              "202992          0.000000       0.000000             0              0   \n",
              "202993          0.000000       0.000000             0              0   \n",
              "\n",
              "        tipo_DEBIT  tipo_PAYMENT  tipo_TRANSFER  \n",
              "0                0             1              0  \n",
              "1                0             1              0  \n",
              "2                0             0              1  \n",
              "3                0             0              0  \n",
              "4                0             1              0  \n",
              "...            ...           ...            ...  \n",
              "202989           0             0              1  \n",
              "202990           0             0              1  \n",
              "202991           0             0              0  \n",
              "202992           0             0              1  \n",
              "202993           0             0              1  \n",
              "\n",
              "[202994 rows x 11 columns]"
            ],
            "text/html": [
              "\n",
              "  <div id=\"df-18d7fdf5-fa16-403a-a651-3fdaae1c0a69\">\n",
              "    <div class=\"colab-df-container\">\n",
              "      <div>\n",
              "<style scoped>\n",
              "    .dataframe tbody tr th:only-of-type {\n",
              "        vertical-align: middle;\n",
              "    }\n",
              "\n",
              "    .dataframe tbody tr th {\n",
              "        vertical-align: top;\n",
              "    }\n",
              "\n",
              "    .dataframe thead th {\n",
              "        text-align: right;\n",
              "    }\n",
              "</style>\n",
              "<table border=\"1\" class=\"dataframe\">\n",
              "  <thead>\n",
              "    <tr style=\"text-align: right;\">\n",
              "      <th></th>\n",
              "      <th>tempo</th>\n",
              "      <th>valor</th>\n",
              "      <th>saldo_inicial_c1</th>\n",
              "      <th>novo_saldo_c1</th>\n",
              "      <th>saldo_inicial_c2</th>\n",
              "      <th>novo_saldo_c2</th>\n",
              "      <th>tipo_CASH_IN</th>\n",
              "      <th>tipo_CASH_OUT</th>\n",
              "      <th>tipo_DEBIT</th>\n",
              "      <th>tipo_PAYMENT</th>\n",
              "      <th>tipo_TRANSFER</th>\n",
              "    </tr>\n",
              "  </thead>\n",
              "  <tbody>\n",
              "    <tr>\n",
              "      <th>0</th>\n",
              "      <td>1</td>\n",
              "      <td>9839.640000</td>\n",
              "      <td>170136.000000</td>\n",
              "      <td>160296.36</td>\n",
              "      <td>0.000000</td>\n",
              "      <td>0.000000</td>\n",
              "      <td>0</td>\n",
              "      <td>0</td>\n",
              "      <td>0</td>\n",
              "      <td>1</td>\n",
              "      <td>0</td>\n",
              "    </tr>\n",
              "    <tr>\n",
              "      <th>1</th>\n",
              "      <td>1</td>\n",
              "      <td>1864.280000</td>\n",
              "      <td>21249.000000</td>\n",
              "      <td>19384.72</td>\n",
              "      <td>0.000000</td>\n",
              "      <td>0.000000</td>\n",
              "      <td>0</td>\n",
              "      <td>0</td>\n",
              "      <td>0</td>\n",
              "      <td>1</td>\n",
              "      <td>0</td>\n",
              "    </tr>\n",
              "    <tr>\n",
              "      <th>2</th>\n",
              "      <td>1</td>\n",
              "      <td>181.000000</td>\n",
              "      <td>181.000000</td>\n",
              "      <td>0.00</td>\n",
              "      <td>0.000000</td>\n",
              "      <td>0.000000</td>\n",
              "      <td>0</td>\n",
              "      <td>0</td>\n",
              "      <td>0</td>\n",
              "      <td>0</td>\n",
              "      <td>1</td>\n",
              "    </tr>\n",
              "    <tr>\n",
              "      <th>3</th>\n",
              "      <td>1</td>\n",
              "      <td>181.000000</td>\n",
              "      <td>181.000000</td>\n",
              "      <td>0.00</td>\n",
              "      <td>21182.000000</td>\n",
              "      <td>0.000000</td>\n",
              "      <td>0</td>\n",
              "      <td>1</td>\n",
              "      <td>0</td>\n",
              "      <td>0</td>\n",
              "      <td>0</td>\n",
              "    </tr>\n",
              "    <tr>\n",
              "      <th>4</th>\n",
              "      <td>1</td>\n",
              "      <td>11668.140000</td>\n",
              "      <td>41554.000000</td>\n",
              "      <td>29885.86</td>\n",
              "      <td>0.000000</td>\n",
              "      <td>0.000000</td>\n",
              "      <td>0</td>\n",
              "      <td>0</td>\n",
              "      <td>0</td>\n",
              "      <td>1</td>\n",
              "      <td>0</td>\n",
              "    </tr>\n",
              "    <tr>\n",
              "      <th>...</th>\n",
              "      <td>...</td>\n",
              "      <td>...</td>\n",
              "      <td>...</td>\n",
              "      <td>...</td>\n",
              "      <td>...</td>\n",
              "      <td>...</td>\n",
              "      <td>...</td>\n",
              "      <td>...</td>\n",
              "      <td>...</td>\n",
              "      <td>...</td>\n",
              "      <td>...</td>\n",
              "    </tr>\n",
              "    <tr>\n",
              "      <th>202989</th>\n",
              "      <td>5</td>\n",
              "      <td>17608.962863</td>\n",
              "      <td>17608.962863</td>\n",
              "      <td>0.00</td>\n",
              "      <td>0.000000</td>\n",
              "      <td>0.000000</td>\n",
              "      <td>0</td>\n",
              "      <td>0</td>\n",
              "      <td>0</td>\n",
              "      <td>0</td>\n",
              "      <td>1</td>\n",
              "    </tr>\n",
              "    <tr>\n",
              "      <th>202990</th>\n",
              "      <td>7</td>\n",
              "      <td>12116.291013</td>\n",
              "      <td>12116.291013</td>\n",
              "      <td>0.00</td>\n",
              "      <td>0.000000</td>\n",
              "      <td>0.000000</td>\n",
              "      <td>0</td>\n",
              "      <td>0</td>\n",
              "      <td>0</td>\n",
              "      <td>0</td>\n",
              "      <td>1</td>\n",
              "    </tr>\n",
              "    <tr>\n",
              "      <th>202991</th>\n",
              "      <td>1</td>\n",
              "      <td>231612.880715</td>\n",
              "      <td>231612.880715</td>\n",
              "      <td>0.00</td>\n",
              "      <td>1945.589357</td>\n",
              "      <td>9370.603471</td>\n",
              "      <td>0</td>\n",
              "      <td>0</td>\n",
              "      <td>0</td>\n",
              "      <td>0</td>\n",
              "      <td>0</td>\n",
              "    </tr>\n",
              "    <tr>\n",
              "      <th>202992</th>\n",
              "      <td>9</td>\n",
              "      <td>547325.144758</td>\n",
              "      <td>547325.144758</td>\n",
              "      <td>0.00</td>\n",
              "      <td>0.000000</td>\n",
              "      <td>0.000000</td>\n",
              "      <td>0</td>\n",
              "      <td>0</td>\n",
              "      <td>0</td>\n",
              "      <td>0</td>\n",
              "      <td>1</td>\n",
              "    </tr>\n",
              "    <tr>\n",
              "      <th>202993</th>\n",
              "      <td>4</td>\n",
              "      <td>159298.594420</td>\n",
              "      <td>159298.594420</td>\n",
              "      <td>0.00</td>\n",
              "      <td>0.000000</td>\n",
              "      <td>0.000000</td>\n",
              "      <td>0</td>\n",
              "      <td>0</td>\n",
              "      <td>0</td>\n",
              "      <td>0</td>\n",
              "      <td>1</td>\n",
              "    </tr>\n",
              "  </tbody>\n",
              "</table>\n",
              "<p>202994 rows × 11 columns</p>\n",
              "</div>\n",
              "      <button class=\"colab-df-convert\" onclick=\"convertToInteractive('df-18d7fdf5-fa16-403a-a651-3fdaae1c0a69')\"\n",
              "              title=\"Convert this dataframe to an interactive table.\"\n",
              "              style=\"display:none;\">\n",
              "        \n",
              "  <svg xmlns=\"http://www.w3.org/2000/svg\" height=\"24px\"viewBox=\"0 0 24 24\"\n",
              "       width=\"24px\">\n",
              "    <path d=\"M0 0h24v24H0V0z\" fill=\"none\"/>\n",
              "    <path d=\"M18.56 5.44l.94 2.06.94-2.06 2.06-.94-2.06-.94-.94-2.06-.94 2.06-2.06.94zm-11 1L8.5 8.5l.94-2.06 2.06-.94-2.06-.94L8.5 2.5l-.94 2.06-2.06.94zm10 10l.94 2.06.94-2.06 2.06-.94-2.06-.94-.94-2.06-.94 2.06-2.06.94z\"/><path d=\"M17.41 7.96l-1.37-1.37c-.4-.4-.92-.59-1.43-.59-.52 0-1.04.2-1.43.59L10.3 9.45l-7.72 7.72c-.78.78-.78 2.05 0 2.83L4 21.41c.39.39.9.59 1.41.59.51 0 1.02-.2 1.41-.59l7.78-7.78 2.81-2.81c.8-.78.8-2.07 0-2.86zM5.41 20L4 18.59l7.72-7.72 1.47 1.35L5.41 20z\"/>\n",
              "  </svg>\n",
              "      </button>\n",
              "      \n",
              "  <style>\n",
              "    .colab-df-container {\n",
              "      display:flex;\n",
              "      flex-wrap:wrap;\n",
              "      gap: 12px;\n",
              "    }\n",
              "\n",
              "    .colab-df-convert {\n",
              "      background-color: #E8F0FE;\n",
              "      border: none;\n",
              "      border-radius: 50%;\n",
              "      cursor: pointer;\n",
              "      display: none;\n",
              "      fill: #1967D2;\n",
              "      height: 32px;\n",
              "      padding: 0 0 0 0;\n",
              "      width: 32px;\n",
              "    }\n",
              "\n",
              "    .colab-df-convert:hover {\n",
              "      background-color: #E2EBFA;\n",
              "      box-shadow: 0px 1px 2px rgba(60, 64, 67, 0.3), 0px 1px 3px 1px rgba(60, 64, 67, 0.15);\n",
              "      fill: #174EA6;\n",
              "    }\n",
              "\n",
              "    [theme=dark] .colab-df-convert {\n",
              "      background-color: #3B4455;\n",
              "      fill: #D2E3FC;\n",
              "    }\n",
              "\n",
              "    [theme=dark] .colab-df-convert:hover {\n",
              "      background-color: #434B5C;\n",
              "      box-shadow: 0px 1px 3px 1px rgba(0, 0, 0, 0.15);\n",
              "      filter: drop-shadow(0px 1px 2px rgba(0, 0, 0, 0.3));\n",
              "      fill: #FFFFFF;\n",
              "    }\n",
              "  </style>\n",
              "\n",
              "      <script>\n",
              "        const buttonEl =\n",
              "          document.querySelector('#df-18d7fdf5-fa16-403a-a651-3fdaae1c0a69 button.colab-df-convert');\n",
              "        buttonEl.style.display =\n",
              "          google.colab.kernel.accessAllowed ? 'block' : 'none';\n",
              "\n",
              "        async function convertToInteractive(key) {\n",
              "          const element = document.querySelector('#df-18d7fdf5-fa16-403a-a651-3fdaae1c0a69');\n",
              "          const dataTable =\n",
              "            await google.colab.kernel.invokeFunction('convertToInteractive',\n",
              "                                                     [key], {});\n",
              "          if (!dataTable) return;\n",
              "\n",
              "          const docLinkHtml = 'Like what you see? Visit the ' +\n",
              "            '<a target=\"_blank\" href=https://colab.research.google.com/notebooks/data_table.ipynb>data table notebook</a>'\n",
              "            + ' to learn more about interactive tables.';\n",
              "          element.innerHTML = '';\n",
              "          dataTable['output_type'] = 'display_data';\n",
              "          await google.colab.output.renderOutput(dataTable, element);\n",
              "          const docLink = document.createElement('div');\n",
              "          docLink.innerHTML = docLinkHtml;\n",
              "          element.appendChild(docLink);\n",
              "        }\n",
              "      </script>\n",
              "    </div>\n",
              "  </div>\n",
              "  "
            ]
          },
          "metadata": {},
          "execution_count": 139
        }
      ]
    },
    {
      "cell_type": "code",
      "source": [
        "y_resampled.value_counts()"
      ],
      "metadata": {
        "colab": {
          "base_uri": "https://localhost:8080/"
        },
        "id": "snQIplsIVeAZ",
        "outputId": "98df5036-a728-4aef-df77-8848d2871961"
      },
      "execution_count": null,
      "outputs": [
        {
          "output_type": "execute_result",
          "data": {
            "text/plain": [
              "0    101497\n",
              "1    101497\n",
              "Name: fraude, dtype: int64"
            ]
          },
          "metadata": {},
          "execution_count": 140
        }
      ]
    },
    {
      "cell_type": "code",
      "source": [
        "fraud_dataset_balanced = pd.concat([y_resampled,x_resampled],axis=1)\n",
        "fraud_dataset_balanced.head()"
      ],
      "metadata": {
        "colab": {
          "base_uri": "https://localhost:8080/",
          "height": 270
        },
        "id": "uD4pfEhMU8No",
        "outputId": "0cd97167-9ca6-4983-9f81-7d7ff5619376"
      },
      "execution_count": null,
      "outputs": [
        {
          "output_type": "execute_result",
          "data": {
            "text/plain": [
              "   fraude  tempo     valor  saldo_inicial_c1  novo_saldo_c1  saldo_inicial_c2  \\\n",
              "0       0      1   9839.64          170136.0      160296.36               0.0   \n",
              "1       0      1   1864.28           21249.0       19384.72               0.0   \n",
              "2       1      1    181.00             181.0           0.00               0.0   \n",
              "3       1      1    181.00             181.0           0.00           21182.0   \n",
              "4       0      1  11668.14           41554.0       29885.86               0.0   \n",
              "\n",
              "   novo_saldo_c2  tipo_CASH_IN  tipo_CASH_OUT  tipo_DEBIT  tipo_PAYMENT  \\\n",
              "0            0.0             0              0           0             1   \n",
              "1            0.0             0              0           0             1   \n",
              "2            0.0             0              0           0             0   \n",
              "3            0.0             0              1           0             0   \n",
              "4            0.0             0              0           0             1   \n",
              "\n",
              "   tipo_TRANSFER  \n",
              "0              0  \n",
              "1              0  \n",
              "2              1  \n",
              "3              0  \n",
              "4              0  "
            ],
            "text/html": [
              "\n",
              "  <div id=\"df-cd9944a3-6c88-4189-a33c-26bbb237cdb8\">\n",
              "    <div class=\"colab-df-container\">\n",
              "      <div>\n",
              "<style scoped>\n",
              "    .dataframe tbody tr th:only-of-type {\n",
              "        vertical-align: middle;\n",
              "    }\n",
              "\n",
              "    .dataframe tbody tr th {\n",
              "        vertical-align: top;\n",
              "    }\n",
              "\n",
              "    .dataframe thead th {\n",
              "        text-align: right;\n",
              "    }\n",
              "</style>\n",
              "<table border=\"1\" class=\"dataframe\">\n",
              "  <thead>\n",
              "    <tr style=\"text-align: right;\">\n",
              "      <th></th>\n",
              "      <th>fraude</th>\n",
              "      <th>tempo</th>\n",
              "      <th>valor</th>\n",
              "      <th>saldo_inicial_c1</th>\n",
              "      <th>novo_saldo_c1</th>\n",
              "      <th>saldo_inicial_c2</th>\n",
              "      <th>novo_saldo_c2</th>\n",
              "      <th>tipo_CASH_IN</th>\n",
              "      <th>tipo_CASH_OUT</th>\n",
              "      <th>tipo_DEBIT</th>\n",
              "      <th>tipo_PAYMENT</th>\n",
              "      <th>tipo_TRANSFER</th>\n",
              "    </tr>\n",
              "  </thead>\n",
              "  <tbody>\n",
              "    <tr>\n",
              "      <th>0</th>\n",
              "      <td>0</td>\n",
              "      <td>1</td>\n",
              "      <td>9839.64</td>\n",
              "      <td>170136.0</td>\n",
              "      <td>160296.36</td>\n",
              "      <td>0.0</td>\n",
              "      <td>0.0</td>\n",
              "      <td>0</td>\n",
              "      <td>0</td>\n",
              "      <td>0</td>\n",
              "      <td>1</td>\n",
              "      <td>0</td>\n",
              "    </tr>\n",
              "    <tr>\n",
              "      <th>1</th>\n",
              "      <td>0</td>\n",
              "      <td>1</td>\n",
              "      <td>1864.28</td>\n",
              "      <td>21249.0</td>\n",
              "      <td>19384.72</td>\n",
              "      <td>0.0</td>\n",
              "      <td>0.0</td>\n",
              "      <td>0</td>\n",
              "      <td>0</td>\n",
              "      <td>0</td>\n",
              "      <td>1</td>\n",
              "      <td>0</td>\n",
              "    </tr>\n",
              "    <tr>\n",
              "      <th>2</th>\n",
              "      <td>1</td>\n",
              "      <td>1</td>\n",
              "      <td>181.00</td>\n",
              "      <td>181.0</td>\n",
              "      <td>0.00</td>\n",
              "      <td>0.0</td>\n",
              "      <td>0.0</td>\n",
              "      <td>0</td>\n",
              "      <td>0</td>\n",
              "      <td>0</td>\n",
              "      <td>0</td>\n",
              "      <td>1</td>\n",
              "    </tr>\n",
              "    <tr>\n",
              "      <th>3</th>\n",
              "      <td>1</td>\n",
              "      <td>1</td>\n",
              "      <td>181.00</td>\n",
              "      <td>181.0</td>\n",
              "      <td>0.00</td>\n",
              "      <td>21182.0</td>\n",
              "      <td>0.0</td>\n",
              "      <td>0</td>\n",
              "      <td>1</td>\n",
              "      <td>0</td>\n",
              "      <td>0</td>\n",
              "      <td>0</td>\n",
              "    </tr>\n",
              "    <tr>\n",
              "      <th>4</th>\n",
              "      <td>0</td>\n",
              "      <td>1</td>\n",
              "      <td>11668.14</td>\n",
              "      <td>41554.0</td>\n",
              "      <td>29885.86</td>\n",
              "      <td>0.0</td>\n",
              "      <td>0.0</td>\n",
              "      <td>0</td>\n",
              "      <td>0</td>\n",
              "      <td>0</td>\n",
              "      <td>1</td>\n",
              "      <td>0</td>\n",
              "    </tr>\n",
              "  </tbody>\n",
              "</table>\n",
              "</div>\n",
              "      <button class=\"colab-df-convert\" onclick=\"convertToInteractive('df-cd9944a3-6c88-4189-a33c-26bbb237cdb8')\"\n",
              "              title=\"Convert this dataframe to an interactive table.\"\n",
              "              style=\"display:none;\">\n",
              "        \n",
              "  <svg xmlns=\"http://www.w3.org/2000/svg\" height=\"24px\"viewBox=\"0 0 24 24\"\n",
              "       width=\"24px\">\n",
              "    <path d=\"M0 0h24v24H0V0z\" fill=\"none\"/>\n",
              "    <path d=\"M18.56 5.44l.94 2.06.94-2.06 2.06-.94-2.06-.94-.94-2.06-.94 2.06-2.06.94zm-11 1L8.5 8.5l.94-2.06 2.06-.94-2.06-.94L8.5 2.5l-.94 2.06-2.06.94zm10 10l.94 2.06.94-2.06 2.06-.94-2.06-.94-.94-2.06-.94 2.06-2.06.94z\"/><path d=\"M17.41 7.96l-1.37-1.37c-.4-.4-.92-.59-1.43-.59-.52 0-1.04.2-1.43.59L10.3 9.45l-7.72 7.72c-.78.78-.78 2.05 0 2.83L4 21.41c.39.39.9.59 1.41.59.51 0 1.02-.2 1.41-.59l7.78-7.78 2.81-2.81c.8-.78.8-2.07 0-2.86zM5.41 20L4 18.59l7.72-7.72 1.47 1.35L5.41 20z\"/>\n",
              "  </svg>\n",
              "      </button>\n",
              "      \n",
              "  <style>\n",
              "    .colab-df-container {\n",
              "      display:flex;\n",
              "      flex-wrap:wrap;\n",
              "      gap: 12px;\n",
              "    }\n",
              "\n",
              "    .colab-df-convert {\n",
              "      background-color: #E8F0FE;\n",
              "      border: none;\n",
              "      border-radius: 50%;\n",
              "      cursor: pointer;\n",
              "      display: none;\n",
              "      fill: #1967D2;\n",
              "      height: 32px;\n",
              "      padding: 0 0 0 0;\n",
              "      width: 32px;\n",
              "    }\n",
              "\n",
              "    .colab-df-convert:hover {\n",
              "      background-color: #E2EBFA;\n",
              "      box-shadow: 0px 1px 2px rgba(60, 64, 67, 0.3), 0px 1px 3px 1px rgba(60, 64, 67, 0.15);\n",
              "      fill: #174EA6;\n",
              "    }\n",
              "\n",
              "    [theme=dark] .colab-df-convert {\n",
              "      background-color: #3B4455;\n",
              "      fill: #D2E3FC;\n",
              "    }\n",
              "\n",
              "    [theme=dark] .colab-df-convert:hover {\n",
              "      background-color: #434B5C;\n",
              "      box-shadow: 0px 1px 3px 1px rgba(0, 0, 0, 0.15);\n",
              "      filter: drop-shadow(0px 1px 2px rgba(0, 0, 0, 0.3));\n",
              "      fill: #FFFFFF;\n",
              "    }\n",
              "  </style>\n",
              "\n",
              "      <script>\n",
              "        const buttonEl =\n",
              "          document.querySelector('#df-cd9944a3-6c88-4189-a33c-26bbb237cdb8 button.colab-df-convert');\n",
              "        buttonEl.style.display =\n",
              "          google.colab.kernel.accessAllowed ? 'block' : 'none';\n",
              "\n",
              "        async function convertToInteractive(key) {\n",
              "          const element = document.querySelector('#df-cd9944a3-6c88-4189-a33c-26bbb237cdb8');\n",
              "          const dataTable =\n",
              "            await google.colab.kernel.invokeFunction('convertToInteractive',\n",
              "                                                     [key], {});\n",
              "          if (!dataTable) return;\n",
              "\n",
              "          const docLinkHtml = 'Like what you see? Visit the ' +\n",
              "            '<a target=\"_blank\" href=https://colab.research.google.com/notebooks/data_table.ipynb>data table notebook</a>'\n",
              "            + ' to learn more about interactive tables.';\n",
              "          element.innerHTML = '';\n",
              "          dataTable['output_type'] = 'display_data';\n",
              "          await google.colab.output.renderOutput(dataTable, element);\n",
              "          const docLink = document.createElement('div');\n",
              "          docLink.innerHTML = docLinkHtml;\n",
              "          element.appendChild(docLink);\n",
              "        }\n",
              "      </script>\n",
              "    </div>\n",
              "  </div>\n",
              "  "
            ]
          },
          "metadata": {},
          "execution_count": 141
        }
      ]
    },
    {
      "cell_type": "code",
      "source": [
        "compile_model(fraud_dataset_balanced,column='fraude')"
      ],
      "metadata": {
        "colab": {
          "base_uri": "https://localhost:8080/"
        },
        "id": "fx5xQqmgWWgf",
        "outputId": "ce085bd4-88b2-4831-9444-1344f71740ae"
      },
      "execution_count": null,
      "outputs": [
        {
          "output_type": "stream",
          "name": "stdout",
          "text": [
            "accuracy_score: 0.9417722516699837\n",
            "recall_score: 0.9623125493291239\n",
            "precision_score: 0.9241993556945234\n",
            "f1_score: 0.9428709521507975\n"
          ]
        }
      ]
    },
    {
      "cell_type": "code",
      "source": [
        "fraud_dataset_balanced.corr()"
      ],
      "metadata": {
        "colab": {
          "base_uri": "https://localhost:8080/",
          "height": 490
        },
        "id": "qmrYGNblYvwm",
        "outputId": "02105795-cf86-4f9c-a756-0aea71fdd0bb"
      },
      "execution_count": null,
      "outputs": [
        {
          "output_type": "execute_result",
          "data": {
            "text/plain": [
              "                    fraude     tempo     valor  saldo_inicial_c1  \\\n",
              "fraude            1.000000 -0.610210  0.157292         -0.097309   \n",
              "tempo            -0.610210  1.000000 -0.084933          0.060895   \n",
              "valor             0.157292 -0.084933  1.000000          0.389222   \n",
              "saldo_inicial_c1 -0.097309  0.060895  0.389222          1.000000   \n",
              "novo_saldo_c1    -0.217389  0.134182 -0.006486          0.911043   \n",
              "saldo_inicial_c2 -0.198354  0.136872  0.047346          0.112373   \n",
              "novo_saldo_c2    -0.136893  0.085294  0.322891          0.176684   \n",
              "tipo_CASH_IN     -0.335524  0.213127 -0.052456          0.491920   \n",
              "tipo_CASH_OUT     0.055726 -0.044484  0.029092         -0.123125   \n",
              "tipo_DEBIT       -0.070784 -0.002550 -0.024035         -0.018369   \n",
              "tipo_PAYMENT     -0.495865  0.255090 -0.164748         -0.115681   \n",
              "tipo_TRANSFER     0.368623 -0.245669  0.095887         -0.083990   \n",
              "\n",
              "                  novo_saldo_c1  saldo_inicial_c2  novo_saldo_c2  \\\n",
              "fraude                -0.217389         -0.198354      -0.136893   \n",
              "tempo                  0.134182          0.136872       0.085294   \n",
              "valor                 -0.006486          0.047346       0.322891   \n",
              "saldo_inicial_c1       0.911043          0.112373       0.176684   \n",
              "novo_saldo_c1          1.000000          0.137073       0.090341   \n",
              "saldo_inicial_c2       0.137073          1.000000       0.869219   \n",
              "novo_saldo_c2          0.090341          0.869219       1.000000   \n",
              "tipo_CASH_IN           0.590445          0.166567       0.100555   \n",
              "tipo_CASH_OUT         -0.150995          0.113299       0.185023   \n",
              "tipo_DEBIT            -0.012364          0.011343       0.003317   \n",
              "tipo_PAYMENT          -0.073435         -0.139960      -0.184296   \n",
              "tipo_TRANSFER         -0.120818         -0.042973      -0.051143   \n",
              "\n",
              "                  tipo_CASH_IN  tipo_CASH_OUT  tipo_DEBIT  tipo_PAYMENT  \\\n",
              "fraude               -0.335524       0.055726   -0.070784     -0.495865   \n",
              "tempo                 0.213127      -0.044484   -0.002550      0.255090   \n",
              "valor                -0.052456       0.029092   -0.024035     -0.164748   \n",
              "saldo_inicial_c1      0.491920      -0.123125   -0.018369     -0.115681   \n",
              "novo_saldo_c1         0.590445      -0.150995   -0.012364     -0.073435   \n",
              "saldo_inicial_c2      0.166567       0.113299    0.011343     -0.139960   \n",
              "novo_saldo_c2         0.100555       0.185023    0.003317     -0.184296   \n",
              "tipo_CASH_IN          1.000000      -0.237707   -0.023750     -0.166374   \n",
              "tipo_CASH_OUT        -0.237707       1.000000   -0.050148     -0.351303   \n",
              "tipo_DEBIT           -0.023750      -0.050148    1.000000     -0.035099   \n",
              "tipo_PAYMENT         -0.166374      -0.351303   -0.035099      1.000000   \n",
              "tipo_TRANSFER        -0.190196      -0.401604   -0.040125     -0.281088   \n",
              "\n",
              "                  tipo_TRANSFER  \n",
              "fraude                 0.368623  \n",
              "tempo                 -0.245669  \n",
              "valor                  0.095887  \n",
              "saldo_inicial_c1      -0.083990  \n",
              "novo_saldo_c1         -0.120818  \n",
              "saldo_inicial_c2      -0.042973  \n",
              "novo_saldo_c2         -0.051143  \n",
              "tipo_CASH_IN          -0.190196  \n",
              "tipo_CASH_OUT         -0.401604  \n",
              "tipo_DEBIT            -0.040125  \n",
              "tipo_PAYMENT          -0.281088  \n",
              "tipo_TRANSFER          1.000000  "
            ],
            "text/html": [
              "\n",
              "  <div id=\"df-3f606783-cbac-4dd1-a5aa-2fd11928821e\">\n",
              "    <div class=\"colab-df-container\">\n",
              "      <div>\n",
              "<style scoped>\n",
              "    .dataframe tbody tr th:only-of-type {\n",
              "        vertical-align: middle;\n",
              "    }\n",
              "\n",
              "    .dataframe tbody tr th {\n",
              "        vertical-align: top;\n",
              "    }\n",
              "\n",
              "    .dataframe thead th {\n",
              "        text-align: right;\n",
              "    }\n",
              "</style>\n",
              "<table border=\"1\" class=\"dataframe\">\n",
              "  <thead>\n",
              "    <tr style=\"text-align: right;\">\n",
              "      <th></th>\n",
              "      <th>fraude</th>\n",
              "      <th>tempo</th>\n",
              "      <th>valor</th>\n",
              "      <th>saldo_inicial_c1</th>\n",
              "      <th>novo_saldo_c1</th>\n",
              "      <th>saldo_inicial_c2</th>\n",
              "      <th>novo_saldo_c2</th>\n",
              "      <th>tipo_CASH_IN</th>\n",
              "      <th>tipo_CASH_OUT</th>\n",
              "      <th>tipo_DEBIT</th>\n",
              "      <th>tipo_PAYMENT</th>\n",
              "      <th>tipo_TRANSFER</th>\n",
              "    </tr>\n",
              "  </thead>\n",
              "  <tbody>\n",
              "    <tr>\n",
              "      <th>fraude</th>\n",
              "      <td>1.000000</td>\n",
              "      <td>-0.610210</td>\n",
              "      <td>0.157292</td>\n",
              "      <td>-0.097309</td>\n",
              "      <td>-0.217389</td>\n",
              "      <td>-0.198354</td>\n",
              "      <td>-0.136893</td>\n",
              "      <td>-0.335524</td>\n",
              "      <td>0.055726</td>\n",
              "      <td>-0.070784</td>\n",
              "      <td>-0.495865</td>\n",
              "      <td>0.368623</td>\n",
              "    </tr>\n",
              "    <tr>\n",
              "      <th>tempo</th>\n",
              "      <td>-0.610210</td>\n",
              "      <td>1.000000</td>\n",
              "      <td>-0.084933</td>\n",
              "      <td>0.060895</td>\n",
              "      <td>0.134182</td>\n",
              "      <td>0.136872</td>\n",
              "      <td>0.085294</td>\n",
              "      <td>0.213127</td>\n",
              "      <td>-0.044484</td>\n",
              "      <td>-0.002550</td>\n",
              "      <td>0.255090</td>\n",
              "      <td>-0.245669</td>\n",
              "    </tr>\n",
              "    <tr>\n",
              "      <th>valor</th>\n",
              "      <td>0.157292</td>\n",
              "      <td>-0.084933</td>\n",
              "      <td>1.000000</td>\n",
              "      <td>0.389222</td>\n",
              "      <td>-0.006486</td>\n",
              "      <td>0.047346</td>\n",
              "      <td>0.322891</td>\n",
              "      <td>-0.052456</td>\n",
              "      <td>0.029092</td>\n",
              "      <td>-0.024035</td>\n",
              "      <td>-0.164748</td>\n",
              "      <td>0.095887</td>\n",
              "    </tr>\n",
              "    <tr>\n",
              "      <th>saldo_inicial_c1</th>\n",
              "      <td>-0.097309</td>\n",
              "      <td>0.060895</td>\n",
              "      <td>0.389222</td>\n",
              "      <td>1.000000</td>\n",
              "      <td>0.911043</td>\n",
              "      <td>0.112373</td>\n",
              "      <td>0.176684</td>\n",
              "      <td>0.491920</td>\n",
              "      <td>-0.123125</td>\n",
              "      <td>-0.018369</td>\n",
              "      <td>-0.115681</td>\n",
              "      <td>-0.083990</td>\n",
              "    </tr>\n",
              "    <tr>\n",
              "      <th>novo_saldo_c1</th>\n",
              "      <td>-0.217389</td>\n",
              "      <td>0.134182</td>\n",
              "      <td>-0.006486</td>\n",
              "      <td>0.911043</td>\n",
              "      <td>1.000000</td>\n",
              "      <td>0.137073</td>\n",
              "      <td>0.090341</td>\n",
              "      <td>0.590445</td>\n",
              "      <td>-0.150995</td>\n",
              "      <td>-0.012364</td>\n",
              "      <td>-0.073435</td>\n",
              "      <td>-0.120818</td>\n",
              "    </tr>\n",
              "    <tr>\n",
              "      <th>saldo_inicial_c2</th>\n",
              "      <td>-0.198354</td>\n",
              "      <td>0.136872</td>\n",
              "      <td>0.047346</td>\n",
              "      <td>0.112373</td>\n",
              "      <td>0.137073</td>\n",
              "      <td>1.000000</td>\n",
              "      <td>0.869219</td>\n",
              "      <td>0.166567</td>\n",
              "      <td>0.113299</td>\n",
              "      <td>0.011343</td>\n",
              "      <td>-0.139960</td>\n",
              "      <td>-0.042973</td>\n",
              "    </tr>\n",
              "    <tr>\n",
              "      <th>novo_saldo_c2</th>\n",
              "      <td>-0.136893</td>\n",
              "      <td>0.085294</td>\n",
              "      <td>0.322891</td>\n",
              "      <td>0.176684</td>\n",
              "      <td>0.090341</td>\n",
              "      <td>0.869219</td>\n",
              "      <td>1.000000</td>\n",
              "      <td>0.100555</td>\n",
              "      <td>0.185023</td>\n",
              "      <td>0.003317</td>\n",
              "      <td>-0.184296</td>\n",
              "      <td>-0.051143</td>\n",
              "    </tr>\n",
              "    <tr>\n",
              "      <th>tipo_CASH_IN</th>\n",
              "      <td>-0.335524</td>\n",
              "      <td>0.213127</td>\n",
              "      <td>-0.052456</td>\n",
              "      <td>0.491920</td>\n",
              "      <td>0.590445</td>\n",
              "      <td>0.166567</td>\n",
              "      <td>0.100555</td>\n",
              "      <td>1.000000</td>\n",
              "      <td>-0.237707</td>\n",
              "      <td>-0.023750</td>\n",
              "      <td>-0.166374</td>\n",
              "      <td>-0.190196</td>\n",
              "    </tr>\n",
              "    <tr>\n",
              "      <th>tipo_CASH_OUT</th>\n",
              "      <td>0.055726</td>\n",
              "      <td>-0.044484</td>\n",
              "      <td>0.029092</td>\n",
              "      <td>-0.123125</td>\n",
              "      <td>-0.150995</td>\n",
              "      <td>0.113299</td>\n",
              "      <td>0.185023</td>\n",
              "      <td>-0.237707</td>\n",
              "      <td>1.000000</td>\n",
              "      <td>-0.050148</td>\n",
              "      <td>-0.351303</td>\n",
              "      <td>-0.401604</td>\n",
              "    </tr>\n",
              "    <tr>\n",
              "      <th>tipo_DEBIT</th>\n",
              "      <td>-0.070784</td>\n",
              "      <td>-0.002550</td>\n",
              "      <td>-0.024035</td>\n",
              "      <td>-0.018369</td>\n",
              "      <td>-0.012364</td>\n",
              "      <td>0.011343</td>\n",
              "      <td>0.003317</td>\n",
              "      <td>-0.023750</td>\n",
              "      <td>-0.050148</td>\n",
              "      <td>1.000000</td>\n",
              "      <td>-0.035099</td>\n",
              "      <td>-0.040125</td>\n",
              "    </tr>\n",
              "    <tr>\n",
              "      <th>tipo_PAYMENT</th>\n",
              "      <td>-0.495865</td>\n",
              "      <td>0.255090</td>\n",
              "      <td>-0.164748</td>\n",
              "      <td>-0.115681</td>\n",
              "      <td>-0.073435</td>\n",
              "      <td>-0.139960</td>\n",
              "      <td>-0.184296</td>\n",
              "      <td>-0.166374</td>\n",
              "      <td>-0.351303</td>\n",
              "      <td>-0.035099</td>\n",
              "      <td>1.000000</td>\n",
              "      <td>-0.281088</td>\n",
              "    </tr>\n",
              "    <tr>\n",
              "      <th>tipo_TRANSFER</th>\n",
              "      <td>0.368623</td>\n",
              "      <td>-0.245669</td>\n",
              "      <td>0.095887</td>\n",
              "      <td>-0.083990</td>\n",
              "      <td>-0.120818</td>\n",
              "      <td>-0.042973</td>\n",
              "      <td>-0.051143</td>\n",
              "      <td>-0.190196</td>\n",
              "      <td>-0.401604</td>\n",
              "      <td>-0.040125</td>\n",
              "      <td>-0.281088</td>\n",
              "      <td>1.000000</td>\n",
              "    </tr>\n",
              "  </tbody>\n",
              "</table>\n",
              "</div>\n",
              "      <button class=\"colab-df-convert\" onclick=\"convertToInteractive('df-3f606783-cbac-4dd1-a5aa-2fd11928821e')\"\n",
              "              title=\"Convert this dataframe to an interactive table.\"\n",
              "              style=\"display:none;\">\n",
              "        \n",
              "  <svg xmlns=\"http://www.w3.org/2000/svg\" height=\"24px\"viewBox=\"0 0 24 24\"\n",
              "       width=\"24px\">\n",
              "    <path d=\"M0 0h24v24H0V0z\" fill=\"none\"/>\n",
              "    <path d=\"M18.56 5.44l.94 2.06.94-2.06 2.06-.94-2.06-.94-.94-2.06-.94 2.06-2.06.94zm-11 1L8.5 8.5l.94-2.06 2.06-.94-2.06-.94L8.5 2.5l-.94 2.06-2.06.94zm10 10l.94 2.06.94-2.06 2.06-.94-2.06-.94-.94-2.06-.94 2.06-2.06.94z\"/><path d=\"M17.41 7.96l-1.37-1.37c-.4-.4-.92-.59-1.43-.59-.52 0-1.04.2-1.43.59L10.3 9.45l-7.72 7.72c-.78.78-.78 2.05 0 2.83L4 21.41c.39.39.9.59 1.41.59.51 0 1.02-.2 1.41-.59l7.78-7.78 2.81-2.81c.8-.78.8-2.07 0-2.86zM5.41 20L4 18.59l7.72-7.72 1.47 1.35L5.41 20z\"/>\n",
              "  </svg>\n",
              "      </button>\n",
              "      \n",
              "  <style>\n",
              "    .colab-df-container {\n",
              "      display:flex;\n",
              "      flex-wrap:wrap;\n",
              "      gap: 12px;\n",
              "    }\n",
              "\n",
              "    .colab-df-convert {\n",
              "      background-color: #E8F0FE;\n",
              "      border: none;\n",
              "      border-radius: 50%;\n",
              "      cursor: pointer;\n",
              "      display: none;\n",
              "      fill: #1967D2;\n",
              "      height: 32px;\n",
              "      padding: 0 0 0 0;\n",
              "      width: 32px;\n",
              "    }\n",
              "\n",
              "    .colab-df-convert:hover {\n",
              "      background-color: #E2EBFA;\n",
              "      box-shadow: 0px 1px 2px rgba(60, 64, 67, 0.3), 0px 1px 3px 1px rgba(60, 64, 67, 0.15);\n",
              "      fill: #174EA6;\n",
              "    }\n",
              "\n",
              "    [theme=dark] .colab-df-convert {\n",
              "      background-color: #3B4455;\n",
              "      fill: #D2E3FC;\n",
              "    }\n",
              "\n",
              "    [theme=dark] .colab-df-convert:hover {\n",
              "      background-color: #434B5C;\n",
              "      box-shadow: 0px 1px 3px 1px rgba(0, 0, 0, 0.15);\n",
              "      filter: drop-shadow(0px 1px 2px rgba(0, 0, 0, 0.3));\n",
              "      fill: #FFFFFF;\n",
              "    }\n",
              "  </style>\n",
              "\n",
              "      <script>\n",
              "        const buttonEl =\n",
              "          document.querySelector('#df-3f606783-cbac-4dd1-a5aa-2fd11928821e button.colab-df-convert');\n",
              "        buttonEl.style.display =\n",
              "          google.colab.kernel.accessAllowed ? 'block' : 'none';\n",
              "\n",
              "        async function convertToInteractive(key) {\n",
              "          const element = document.querySelector('#df-3f606783-cbac-4dd1-a5aa-2fd11928821e');\n",
              "          const dataTable =\n",
              "            await google.colab.kernel.invokeFunction('convertToInteractive',\n",
              "                                                     [key], {});\n",
              "          if (!dataTable) return;\n",
              "\n",
              "          const docLinkHtml = 'Like what you see? Visit the ' +\n",
              "            '<a target=\"_blank\" href=https://colab.research.google.com/notebooks/data_table.ipynb>data table notebook</a>'\n",
              "            + ' to learn more about interactive tables.';\n",
              "          element.innerHTML = '';\n",
              "          dataTable['output_type'] = 'display_data';\n",
              "          await google.colab.output.renderOutput(dataTable, element);\n",
              "          const docLink = document.createElement('div');\n",
              "          docLink.innerHTML = docLinkHtml;\n",
              "          element.appendChild(docLink);\n",
              "        }\n",
              "      </script>\n",
              "    </div>\n",
              "  </div>\n",
              "  "
            ]
          },
          "metadata": {},
          "execution_count": 143
        }
      ]
    },
    {
      "cell_type": "markdown",
      "source": [
        "## Árvore de decisão"
      ],
      "metadata": {
        "id": "O-NSg702bF_L"
      }
    },
    {
      "cell_type": "code",
      "source": [
        "from sklearn.tree import DecisionTreeClassifier\n",
        "from sklearn.ensemble import RandomForestClassifier"
      ],
      "metadata": {
        "id": "1yAgTQ6uY0Vx"
      },
      "execution_count": null,
      "outputs": []
    },
    {
      "cell_type": "code",
      "source": [
        "def compile_model(model,dataset,column):\n",
        "\n",
        "  x = dataset.drop(column,axis=1)\n",
        "  y = dataset[column]\n",
        "  X_train, X_test, y_train, y_test = train_test_split(x, y, test_size=0.25, random_state=42)\n",
        "  Model = model\n",
        "  Model.fit(X_train, y_train)\n",
        "  y_pred = Model.predict(X_test)\n",
        "  y_pred_proba = Model.predict_proba(X_test)[::,1]\n",
        "\n",
        "  return y_test,y_pred,y_pred_proba\n",
        "\n",
        "def metrics_model(model,dataset,column):\n",
        "\n",
        "  y_test,y_pred,y_pred_proba = compile_model(model,dataset,column)\n",
        "  \n",
        "  print(f'accuracy_score: {accuracy_score(y_test,y_pred)}')\n",
        "  print(f'recall_score: {recall_score(y_test,y_pred)}')\n",
        "  print(f'precision_score: {precision_score(y_test,y_pred)}')\n",
        "  print(f'f1_score: {f1_score(y_test,y_pred)}')\n",
        "\n",
        "def roc_curve_plot(model,dataset,column,label_model):\n",
        "\n",
        "  y_test,y_pred,y_pred_proba = compile_model(model,dataset,column)\n",
        "\n",
        "  fpr, tpr, _ = roc_curve(y_test,y_pred_proba)\n",
        "  auc = roc_auc_score(y_test,y_pred_proba)\n",
        "\n",
        "  plt.rcParams['figure.figsize'] = (12,8)\n",
        "\n",
        "  plt.plot(fpr, tpr, label=f'{label_model}, AUC={round(auc,2)}')\n",
        "  plt.plot([0,1], [0,1], color='red', lw=2, linestyle='--')\n",
        "  plt.legend()"
      ],
      "metadata": {
        "id": "xBP4RZZKbYCN"
      },
      "execution_count": null,
      "outputs": []
    },
    {
      "cell_type": "code",
      "source": [
        "metrics_model(DecisionTreeClassifier(max_depth=5,random_state=42),\n",
        "              fraud_dataset_balanced,\n",
        "              column='fraude')"
      ],
      "metadata": {
        "colab": {
          "base_uri": "https://localhost:8080/"
        },
        "id": "ZEomXMkOb_gJ",
        "outputId": "50e408d2-8cd9-4a6d-b66b-7216ed1d6c54"
      },
      "execution_count": null,
      "outputs": [
        {
          "output_type": "stream",
          "name": "stdout",
          "text": [
            "accuracy_score: 0.9622849711324362\n",
            "recall_score: 0.9897000789265983\n",
            "precision_score: 0.9381639982043992\n",
            "f1_score: 0.9632432017206943\n"
          ]
        }
      ]
    },
    {
      "cell_type": "code",
      "source": [
        "roc_curve_plot(DecisionTreeClassifier(max_depth=5,random_state=42),\n",
        "               fraud_dataset_balanced,\n",
        "               column='fraude',\n",
        "               label_model='DT')"
      ],
      "metadata": {
        "colab": {
          "base_uri": "https://localhost:8080/",
          "height": 483
        },
        "id": "FocnGs_lfixg",
        "outputId": "41f55f24-3bbf-4cee-d358-39e43afc308e"
      },
      "execution_count": null,
      "outputs": [
        {
          "output_type": "display_data",
          "data": {
            "text/plain": [
              "<Figure size 864x576 with 1 Axes>"
            ],
            "image/png": "[encoded data removed]"
          },
          "metadata": {
            "needs_background": "light"
          }
        }
      ]
    },
    {
      "cell_type": "code",
      "source": [
        "metrics_model(RandomForestClassifier(max_depth=5,random_state=42),\n",
        "              fraud_dataset_balanced,\n",
        "              column='fraude')"
      ],
      "metadata": {
        "colab": {
          "base_uri": "https://localhost:8080/"
        },
        "id": "qV59U6qsgbJS",
        "outputId": "b98b1c03-a4bd-42a7-8edd-27a5ac167ef6"
      },
      "execution_count": null,
      "outputs": [
        {
          "output_type": "stream",
          "name": "stdout",
          "text": [
            "accuracy_score: 0.9723738398786183\n",
            "recall_score: 0.9742699289660616\n",
            "precision_score: 0.9705165500432424\n",
            "f1_score: 0.9723896175509079\n"
          ]
        }
      ]
    },
    {
      "cell_type": "code",
      "source": [
        "roc_curve_plot(RandomForestClassifier(max_depth=5,random_state=42),\n",
        "               fraud_dataset_balanced,\n",
        "               column='fraude',\n",
        "               label_model='DT')"
      ],
      "metadata": {
        "colab": {
          "base_uri": "https://localhost:8080/",
          "height": 483
        },
        "id": "cT1wlJ9BgjRG",
        "outputId": "b9f5b6fc-a07e-4721-d9b9-a0dbe4960e5e"
      },
      "execution_count": null,
      "outputs": [
        {
          "output_type": "display_data",
          "data": {
            "text/plain": [
              "<Figure size 864x576 with 1 Axes>"
            ],
            "image/png": "[encoded data removed]"
          },
          "metadata": {
            "needs_background": "light"
          }
        }
      ]
    },
    {
      "cell_type": "markdown",
      "source": [
        "## Comparação modelos"
      ],
      "metadata": {
        "id": "8bUMntGlsSwl"
      }
    },
    {
      "cell_type": "code",
      "source": [
        "  x = fraud_dataset_balanced.drop('fraude',axis=1)\n",
        "  y = fraud_dataset_balanced['fraude']"
      ],
      "metadata": {
        "id": "O_cxoWSOs88U"
      },
      "execution_count": null,
      "outputs": []
    },
    {
      "cell_type": "code",
      "source": [
        "X_train, X_test, y_train, y_test = train_test_split(x, y, test_size=0.25, random_state=42)"
      ],
      "metadata": {
        "id": "jUAAWBgrs10Z"
      },
      "execution_count": null,
      "outputs": []
    },
    {
      "cell_type": "code",
      "source": [
        "SEED = 42\n",
        "\n",
        "classifiers = [LogisticRegression(max_iter=1000, random_state=SEED),\n",
        "               DecisionTreeClassifier(max_depth = 5, random_state=SEED),\n",
        "               RandomForestClassifier(max_depth= 5, random_state = SEED)]"
      ],
      "metadata": {
        "id": "K6U8MES4sUyK"
      },
      "execution_count": null,
      "outputs": []
    },
    {
      "cell_type": "code",
      "source": [
        "for clf in classifiers:\n",
        "  clf.fit(X_train, y_train)\n",
        "  name = clf.__class__.__name__\n",
        "  print(\"=\"*30)\n",
        "  print(name)\n",
        "  print('****Resultados****')\n",
        "  y_pred = clf.predict(X_test)\n",
        "  print(\"Accuracy:\", accuracy_score(y_test, y_pred))\n",
        "  print(\"Precision:\", precision_score(y_test, y_pred))\n",
        "  print(\"Recall:\", recall_score(y_test, y_pred))\n",
        "  print(\"F1:\", f1_score(y_test, y_pred))"
      ],
      "metadata": {
        "colab": {
          "base_uri": "https://localhost:8080/"
        },
        "id": "QfYtE13WsdXC",
        "outputId": "fcd78176-3718-42a3-b885-fc173886cbfc"
      },
      "execution_count": null,
      "outputs": [
        {
          "output_type": "stream",
          "name": "stdout",
          "text": [
            "==============================\n",
            "LogisticRegression\n",
            "****Resultados****\n",
            "Accuracy: 0.9417722516699837\n",
            "Precision: 0.9241993556945234\n",
            "Recall: 0.9623125493291239\n",
            "F1: 0.9428709521507975\n",
            "==============================\n",
            "DecisionTreeClassifier\n",
            "****Resultados****\n",
            "Accuracy: 0.9622849711324362\n",
            "Precision: 0.9381639982043992\n",
            "Recall: 0.9897000789265983\n",
            "F1: 0.9632432017206943\n",
            "==============================\n",
            "RandomForestClassifier\n",
            "****Resultados****\n",
            "Accuracy: 0.9723738398786183\n",
            "Precision: 0.9705165500432424\n",
            "Recall: 0.9742699289660616\n",
            "F1: 0.9723896175509079\n"
          ]
        }
      ]
    },
    {
      "cell_type": "code",
      "source": [
        "for clf in classifiers:\n",
        "  clf.fit(X_train, y_train)\n",
        "  y_pred = clf.predict(X_test)\n",
        "  cm = confusion_matrix(y_test, y_pred)\n",
        "  disp = ConfusionMatrixDisplay(confusion_matrix=cm)\n",
        "  disp.plot()"
      ],
      "metadata": {
        "colab": {
          "base_uri": "https://localhost:8080/",
          "height": 1000
        },
        "id": "MRy7HHV1tepg",
        "outputId": "f87ba75b-8727-408e-9251-4f5d5936bff7"
      },
      "execution_count": null,
      "outputs": [
        {
          "output_type": "display_data",
          "data": {
            "text/plain": [
              "<Figure size 864x576 with 2 Axes>"
            ],
            "image/png": "[encoded data removed]"
          },
          "metadata": {
            "needs_background": "light"
          }
        },
        {
          "output_type": "display_data",
          "data": {
            "text/plain": [
              "<Figure size 864x576 with 2 Axes>"
            ],
            "image/png": "[encoded data removed]"
          },
          "metadata": {
            "needs_background": "light"
          }
        },
        {
          "output_type": "display_data",
          "data": {
            "text/plain": [
              "<Figure size 864x576 with 2 Axes>"
            ],
            "image/png": "[encoded data removed]"
          },
          "metadata": {
            "needs_background": "light"
          }
        }
      ]
    },
    {
      "cell_type": "markdown",
      "source": [
        "## RandomizedSearchCV"
      ],
      "metadata": {
        "id": "FbdrB8oUuJvE"
      }
    },
    {
      "cell_type": "code",
      "source": [
        "from sklearn.model_selection import RandomizedSearchCV"
      ],
      "metadata": {
        "id": "Qt8f6XljE3QC"
      },
      "execution_count": null,
      "outputs": []
    },
    {
      "cell_type": "code",
      "source": [
        "n_estimators = list(np.arange(20, 200, step=20))\n",
        "criterion = ['gini', 'entropy']\n",
        "max_features = ['auto', 'sqrt', 'log2']\n",
        "max_depth = list(np.arange(2, 10, step=1))\n",
        "min_samples_split = np.arange(2, 10, step=2)\n",
        "min_samples_leaf = [1, 2, 4]\n",
        "bootstrap = [True, False]"
      ],
      "metadata": {
        "id": "ghKeTc3tuNT1"
      },
      "execution_count": null,
      "outputs": []
    },
    {
      "cell_type": "code",
      "source": [
        "param_grid = {\n",
        "    'n_estimators': n_estimators,\n",
        "    'criterion': criterion,\n",
        "    'max_features': max_features,\n",
        "    'max_depth': max_depth,\n",
        "    'min_samples_split': min_samples_split,\n",
        "    'min_samples_leaf': min_samples_leaf,\n",
        "    'bootstrap': bootstrap \n",
        "}"
      ],
      "metadata": {
        "id": "yQXUBazyEP9L"
      },
      "execution_count": null,
      "outputs": []
    },
    {
      "cell_type": "code",
      "source": [
        "RF = RandomForestClassifier(random_state=42)"
      ],
      "metadata": {
        "id": "4w47y46jE_9l"
      },
      "execution_count": null,
      "outputs": []
    },
    {
      "cell_type": "code",
      "source": [
        "RV = RandomizedSearchCV(\n",
        "    RF, param_grid, n_iter=10, cv=3, scoring='recall', n_jobs=-1, random_state=42\n",
        ")"
      ],
      "metadata": {
        "id": "5QpC2WAbFYLk"
      },
      "execution_count": null,
      "outputs": []
    },
    {
      "cell_type": "code",
      "source": [
        "%%time\n",
        "RCV = RV.fit(x, y) "
      ],
      "metadata": {
        "colab": {
          "base_uri": "https://localhost:8080/"
        },
        "id": "UOk6C-IjGZjj",
        "outputId": "9c866a4e-21ba-4ffe-cc2e-6eee58f06380"
      },
      "execution_count": null,
      "outputs": [
        {
          "output_type": "stream",
          "name": "stdout",
          "text": [
            "CPU times: user 52.5 s, sys: 426 ms, total: 52.9 s\n",
            "Wall time: 7min 37s\n"
          ]
        }
      ]
    },
    {
      "cell_type": "code",
      "source": [
        "pd.DataFrame(RCV.cv_results_)"
      ],
      "metadata": {
        "colab": {
          "base_uri": "https://localhost:8080/",
          "height": 913
        },
        "id": "yZnNMSI4HLF5",
        "outputId": "d01a0a48-3d6e-4cb4-802a-6800b8d1cf55"
      },
      "execution_count": null,
      "outputs": [
        {
          "output_type": "execute_result",
          "data": {
            "text/plain": [
              "   mean_fit_time  std_fit_time  mean_score_time  std_score_time  \\\n",
              "0      46.223235      6.188510         1.138801        0.040109   \n",
              "1      13.005331      0.089478         0.702322        0.014318   \n",
              "2      15.471751      0.031295         0.869566        0.011367   \n",
              "3      13.962614      0.210928         0.946801        0.222372   \n",
              "4       6.875292      0.542468         0.404568        0.039058   \n",
              "5       9.469681      0.543708         0.375445        0.015678   \n",
              "6      23.955834      0.842138         1.489468        0.106211   \n",
              "7      54.363700      2.589732         1.842245        0.016381   \n",
              "8      29.973095      0.628796         1.197279        0.021113   \n",
              "9      33.614799      4.678230         1.166619        0.130355   \n",
              "\n",
              "  param_n_estimators param_min_samples_split param_min_samples_leaf  \\\n",
              "0                160                       8                      1   \n",
              "1                120                       8                      4   \n",
              "2                180                       6                      4   \n",
              "3                160                       2                      1   \n",
              "4                 40                       4                      1   \n",
              "5                 40                       2                      1   \n",
              "6                160                       8                      1   \n",
              "7                160                       8                      4   \n",
              "8                160                       8                      2   \n",
              "9                140                       2                      1   \n",
              "\n",
              "  param_max_features param_max_depth param_criterion param_bootstrap  \\\n",
              "0               sqrt               8            gini           False   \n",
              "1               sqrt               4            gini            True   \n",
              "2               sqrt               2            gini           False   \n",
              "3               auto               2            gini           False   \n",
              "4               log2               3            gini           False   \n",
              "5               sqrt               5            gini           False   \n",
              "6               sqrt               3            gini            True   \n",
              "7               sqrt               7         entropy            True   \n",
              "8               auto               3            gini           False   \n",
              "9               log2               3         entropy           False   \n",
              "\n",
              "                                              params  split0_test_score  \\\n",
              "0  {'n_estimators': 160, 'min_samples_split': 8, ...           0.988532   \n",
              "1  {'n_estimators': 120, 'min_samples_split': 8, ...           0.963289   \n",
              "2  {'n_estimators': 180, 'min_samples_split': 6, ...           0.934973   \n",
              "3  {'n_estimators': 160, 'min_samples_split': 2, ...           0.935002   \n",
              "4  {'n_estimators': 40, 'min_samples_split': 4, '...           0.939584   \n",
              "5  {'n_estimators': 40, 'min_samples_split': 2, '...           0.970028   \n",
              "6  {'n_estimators': 160, 'min_samples_split': 8, ...           0.940264   \n",
              "7  {'n_estimators': 160, 'min_samples_split': 8, ...           0.980965   \n",
              "8  {'n_estimators': 160, 'min_samples_split': 8, ...           0.941830   \n",
              "9  {'n_estimators': 140, 'min_samples_split': 2, ...           0.935800   \n",
              "\n",
              "   split1_test_score  split2_test_score  mean_test_score  std_test_score  \\\n",
              "0           0.999675           0.991783         0.993330        0.004679   \n",
              "1           0.995951           0.970413         0.976551        0.014023   \n",
              "2           0.946738           0.947653         0.943121        0.005774   \n",
              "3           0.949133           0.946087         0.943407        0.006072   \n",
              "4           0.991724           0.987142         0.972817        0.023574   \n",
              "5           0.999084           0.974048         0.981053        0.012855   \n",
              "6           0.994325           0.964294         0.966294        0.022116   \n",
              "7           0.999970           0.978305         0.986413        0.009648   \n",
              "8           0.994768           0.962373         0.966324        0.021792   \n",
              "9           0.994768           0.962373         0.964314        0.024113   \n",
              "\n",
              "   rank_test_score  \n",
              "0                1  \n",
              "1                4  \n",
              "2               10  \n",
              "3                9  \n",
              "4                5  \n",
              "5                3  \n",
              "6                7  \n",
              "7                2  \n",
              "8                6  \n",
              "9                8  "
            ],
            "text/html": [
              "\n",
              "  <div id=\"df-f6b6eb45-52e1-49e0-9857-0fdfedbc0cfc\">\n",
              "    <div class=\"colab-df-container\">\n",
              "      <div>\n",
              "<style scoped>\n",
              "    .dataframe tbody tr th:only-of-type {\n",
              "        vertical-align: middle;\n",
              "    }\n",
              "\n",
              "    .dataframe tbody tr th {\n",
              "        vertical-align: top;\n",
              "    }\n",
              "\n",
              "    .dataframe thead th {\n",
              "        text-align: right;\n",
              "    }\n",
              "</style>\n",
              "<table border=\"1\" class=\"dataframe\">\n",
              "  <thead>\n",
              "    <tr style=\"text-align: right;\">\n",
              "      <th></th>\n",
              "      <th>mean_fit_time</th>\n",
              "      <th>std_fit_time</th>\n",
              "      <th>mean_score_time</th>\n",
              "      <th>std_score_time</th>\n",
              "      <th>param_n_estimators</th>\n",
              "      <th>param_min_samples_split</th>\n",
              "      <th>param_min_samples_leaf</th>\n",
              "      <th>param_max_features</th>\n",
              "      <th>param_max_depth</th>\n",
              "      <th>param_criterion</th>\n",
              "      <th>param_bootstrap</th>\n",
              "      <th>params</th>\n",
              "      <th>split0_test_score</th>\n",
              "      <th>split1_test_score</th>\n",
              "      <th>split2_test_score</th>\n",
              "      <th>mean_test_score</th>\n",
              "      <th>std_test_score</th>\n",
              "      <th>rank_test_score</th>\n",
              "    </tr>\n",
              "  </thead>\n",
              "  <tbody>\n",
              "    <tr>\n",
              "      <th>0</th>\n",
              "      <td>46.223235</td>\n",
              "      <td>6.188510</td>\n",
              "      <td>1.138801</td>\n",
              "      <td>0.040109</td>\n",
              "      <td>160</td>\n",
              "      <td>8</td>\n",
              "      <td>1</td>\n",
              "      <td>sqrt</td>\n",
              "      <td>8</td>\n",
              "      <td>gini</td>\n",
              "      <td>False</td>\n",
              "      <td>{'n_estimators': 160, 'min_samples_split': 8, ...</td>\n",
              "      <td>0.988532</td>\n",
              "      <td>0.999675</td>\n",
              "      <td>0.991783</td>\n",
              "      <td>0.993330</td>\n",
              "      <td>0.004679</td>\n",
              "      <td>1</td>\n",
              "    </tr>\n",
              "    <tr>\n",
              "      <th>1</th>\n",
              "      <td>13.005331</td>\n",
              "      <td>0.089478</td>\n",
              "      <td>0.702322</td>\n",
              "      <td>0.014318</td>\n",
              "      <td>120</td>\n",
              "      <td>8</td>\n",
              "      <td>4</td>\n",
              "      <td>sqrt</td>\n",
              "      <td>4</td>\n",
              "      <td>gini</td>\n",
              "      <td>True</td>\n",
              "      <td>{'n_estimators': 120, 'min_samples_split': 8, ...</td>\n",
              "      <td>0.963289</td>\n",
              "      <td>0.995951</td>\n",
              "      <td>0.970413</td>\n",
              "      <td>0.976551</td>\n",
              "      <td>0.014023</td>\n",
              "      <td>4</td>\n",
              "    </tr>\n",
              "    <tr>\n",
              "      <th>2</th>\n",
              "      <td>15.471751</td>\n",
              "      <td>0.031295</td>\n",
              "      <td>0.869566</td>\n",
              "      <td>0.011367</td>\n",
              "      <td>180</td>\n",
              "      <td>6</td>\n",
              "      <td>4</td>\n",
              "      <td>sqrt</td>\n",
              "      <td>2</td>\n",
              "      <td>gini</td>\n",
              "      <td>False</td>\n",
              "      <td>{'n_estimators': 180, 'min_samples_split': 6, ...</td>\n",
              "      <td>0.934973</td>\n",
              "      <td>0.946738</td>\n",
              "      <td>0.947653</td>\n",
              "      <td>0.943121</td>\n",
              "      <td>0.005774</td>\n",
              "      <td>10</td>\n",
              "    </tr>\n",
              "    <tr>\n",
              "      <th>3</th>\n",
              "      <td>13.962614</td>\n",
              "      <td>0.210928</td>\n",
              "      <td>0.946801</td>\n",
              "      <td>0.222372</td>\n",
              "      <td>160</td>\n",
              "      <td>2</td>\n",
              "      <td>1</td>\n",
              "      <td>auto</td>\n",
              "      <td>2</td>\n",
              "      <td>gini</td>\n",
              "      <td>False</td>\n",
              "      <td>{'n_estimators': 160, 'min_samples_split': 2, ...</td>\n",
              "      <td>0.935002</td>\n",
              "      <td>0.949133</td>\n",
              "      <td>0.946087</td>\n",
              "      <td>0.943407</td>\n",
              "      <td>0.006072</td>\n",
              "      <td>9</td>\n",
              "    </tr>\n",
              "    <tr>\n",
              "      <th>4</th>\n",
              "      <td>6.875292</td>\n",
              "      <td>0.542468</td>\n",
              "      <td>0.404568</td>\n",
              "      <td>0.039058</td>\n",
              "      <td>40</td>\n",
              "      <td>4</td>\n",
              "      <td>1</td>\n",
              "      <td>log2</td>\n",
              "      <td>3</td>\n",
              "      <td>gini</td>\n",
              "      <td>False</td>\n",
              "      <td>{'n_estimators': 40, 'min_samples_split': 4, '...</td>\n",
              "      <td>0.939584</td>\n",
              "      <td>0.991724</td>\n",
              "      <td>0.987142</td>\n",
              "      <td>0.972817</td>\n",
              "      <td>0.023574</td>\n",
              "      <td>5</td>\n",
              "    </tr>\n",
              "    <tr>\n",
              "      <th>5</th>\n",
              "      <td>9.469681</td>\n",
              "      <td>0.543708</td>\n",
              "      <td>0.375445</td>\n",
              "      <td>0.015678</td>\n",
              "      <td>40</td>\n",
              "      <td>2</td>\n",
              "      <td>1</td>\n",
              "      <td>sqrt</td>\n",
              "      <td>5</td>\n",
              "      <td>gini</td>\n",
              "      <td>False</td>\n",
              "      <td>{'n_estimators': 40, 'min_samples_split': 2, '...</td>\n",
              "      <td>0.970028</td>\n",
              "      <td>0.999084</td>\n",
              "      <td>0.974048</td>\n",
              "      <td>0.981053</td>\n",
              "      <td>0.012855</td>\n",
              "      <td>3</td>\n",
              "    </tr>\n",
              "    <tr>\n",
              "      <th>6</th>\n",
              "      <td>23.955834</td>\n",
              "      <td>0.842138</td>\n",
              "      <td>1.489468</td>\n",
              "      <td>0.106211</td>\n",
              "      <td>160</td>\n",
              "      <td>8</td>\n",
              "      <td>1</td>\n",
              "      <td>sqrt</td>\n",
              "      <td>3</td>\n",
              "      <td>gini</td>\n",
              "      <td>True</td>\n",
              "      <td>{'n_estimators': 160, 'min_samples_split': 8, ...</td>\n",
              "      <td>0.940264</td>\n",
              "      <td>0.994325</td>\n",
              "      <td>0.964294</td>\n",
              "      <td>0.966294</td>\n",
              "      <td>0.022116</td>\n",
              "      <td>7</td>\n",
              "    </tr>\n",
              "    <tr>\n",
              "      <th>7</th>\n",
              "      <td>54.363700</td>\n",
              "      <td>2.589732</td>\n",
              "      <td>1.842245</td>\n",
              "      <td>0.016381</td>\n",
              "      <td>160</td>\n",
              "      <td>8</td>\n",
              "      <td>4</td>\n",
              "      <td>sqrt</td>\n",
              "      <td>7</td>\n",
              "      <td>entropy</td>\n",
              "      <td>True</td>\n",
              "      <td>{'n_estimators': 160, 'min_samples_split': 8, ...</td>\n",
              "      <td>0.980965</td>\n",
              "      <td>0.999970</td>\n",
              "      <td>0.978305</td>\n",
              "      <td>0.986413</td>\n",
              "      <td>0.009648</td>\n",
              "      <td>2</td>\n",
              "    </tr>\n",
              "    <tr>\n",
              "      <th>8</th>\n",
              "      <td>29.973095</td>\n",
              "      <td>0.628796</td>\n",
              "      <td>1.197279</td>\n",
              "      <td>0.021113</td>\n",
              "      <td>160</td>\n",
              "      <td>8</td>\n",
              "      <td>2</td>\n",
              "      <td>auto</td>\n",
              "      <td>3</td>\n",
              "      <td>gini</td>\n",
              "      <td>False</td>\n",
              "      <td>{'n_estimators': 160, 'min_samples_split': 8, ...</td>\n",
              "      <td>0.941830</td>\n",
              "      <td>0.994768</td>\n",
              "      <td>0.962373</td>\n",
              "      <td>0.966324</td>\n",
              "      <td>0.021792</td>\n",
              "      <td>6</td>\n",
              "    </tr>\n",
              "    <tr>\n",
              "      <th>9</th>\n",
              "      <td>33.614799</td>\n",
              "      <td>4.678230</td>\n",
              "      <td>1.166619</td>\n",
              "      <td>0.130355</td>\n",
              "      <td>140</td>\n",
              "      <td>2</td>\n",
              "      <td>1</td>\n",
              "      <td>log2</td>\n",
              "      <td>3</td>\n",
              "      <td>entropy</td>\n",
              "      <td>False</td>\n",
              "      <td>{'n_estimators': 140, 'min_samples_split': 2, ...</td>\n",
              "      <td>0.935800</td>\n",
              "      <td>0.994768</td>\n",
              "      <td>0.962373</td>\n",
              "      <td>0.964314</td>\n",
              "      <td>0.024113</td>\n",
              "      <td>8</td>\n",
              "    </tr>\n",
              "  </tbody>\n",
              "</table>\n",
              "</div>\n",
              "      <button class=\"colab-df-convert\" onclick=\"convertToInteractive('df-f6b6eb45-52e1-49e0-9857-0fdfedbc0cfc')\"\n",
              "              title=\"Convert this dataframe to an interactive table.\"\n",
              "              style=\"display:none;\">\n",
              "        \n",
              "  <svg xmlns=\"http://www.w3.org/2000/svg\" height=\"24px\"viewBox=\"0 0 24 24\"\n",
              "       width=\"24px\">\n",
              "    <path d=\"M0 0h24v24H0V0z\" fill=\"none\"/>\n",
              "    <path d=\"M18.56 5.44l.94 2.06.94-2.06 2.06-.94-2.06-.94-.94-2.06-.94 2.06-2.06.94zm-11 1L8.5 8.5l.94-2.06 2.06-.94-2.06-.94L8.5 2.5l-.94 2.06-2.06.94zm10 10l.94 2.06.94-2.06 2.06-.94-2.06-.94-.94-2.06-.94 2.06-2.06.94z\"/><path d=\"M17.41 7.96l-1.37-1.37c-.4-.4-.92-.59-1.43-.59-.52 0-1.04.2-1.43.59L10.3 9.45l-7.72 7.72c-.78.78-.78 2.05 0 2.83L4 21.41c.39.39.9.59 1.41.59.51 0 1.02-.2 1.41-.59l7.78-7.78 2.81-2.81c.8-.78.8-2.07 0-2.86zM5.41 20L4 18.59l7.72-7.72 1.47 1.35L5.41 20z\"/>\n",
              "  </svg>\n",
              "      </button>\n",
              "      \n",
              "  <style>\n",
              "    .colab-df-container {\n",
              "      display:flex;\n",
              "      flex-wrap:wrap;\n",
              "      gap: 12px;\n",
              "    }\n",
              "\n",
              "    .colab-df-convert {\n",
              "      background-color: #E8F0FE;\n",
              "      border: none;\n",
              "      border-radius: 50%;\n",
              "      cursor: pointer;\n",
              "      display: none;\n",
              "      fill: #1967D2;\n",
              "      height: 32px;\n",
              "      padding: 0 0 0 0;\n",
              "      width: 32px;\n",
              "    }\n",
              "\n",
              "    .colab-df-convert:hover {\n",
              "      background-color: #E2EBFA;\n",
              "      box-shadow: 0px 1px 2px rgba(60, 64, 67, 0.3), 0px 1px 3px 1px rgba(60, 64, 67, 0.15);\n",
              "      fill: #174EA6;\n",
              "    }\n",
              "\n",
              "    [theme=dark] .colab-df-convert {\n",
              "      background-color: #3B4455;\n",
              "      fill: #D2E3FC;\n",
              "    }\n",
              "\n",
              "    [theme=dark] .colab-df-convert:hover {\n",
              "      background-color: #434B5C;\n",
              "      box-shadow: 0px 1px 3px 1px rgba(0, 0, 0, 0.15);\n",
              "      filter: drop-shadow(0px 1px 2px rgba(0, 0, 0, 0.3));\n",
              "      fill: #FFFFFF;\n",
              "    }\n",
              "  </style>\n",
              "\n",
              "      <script>\n",
              "        const buttonEl =\n",
              "          document.querySelector('#df-f6b6eb45-52e1-49e0-9857-0fdfedbc0cfc button.colab-df-convert');\n",
              "        buttonEl.style.display =\n",
              "          google.colab.kernel.accessAllowed ? 'block' : 'none';\n",
              "\n",
              "        async function convertToInteractive(key) {\n",
              "          const element = document.querySelector('#df-f6b6eb45-52e1-49e0-9857-0fdfedbc0cfc');\n",
              "          const dataTable =\n",
              "            await google.colab.kernel.invokeFunction('convertToInteractive',\n",
              "                                                     [key], {});\n",
              "          if (!dataTable) return;\n",
              "\n",
              "          const docLinkHtml = 'Like what you see? Visit the ' +\n",
              "            '<a target=\"_blank\" href=https://colab.research.google.com/notebooks/data_table.ipynb>data table notebook</a>'\n",
              "            + ' to learn more about interactive tables.';\n",
              "          element.innerHTML = '';\n",
              "          dataTable['output_type'] = 'display_data';\n",
              "          await google.colab.output.renderOutput(dataTable, element);\n",
              "          const docLink = document.createElement('div');\n",
              "          docLink.innerHTML = docLinkHtml;\n",
              "          element.appendChild(docLink);\n",
              "        }\n",
              "      </script>\n",
              "    </div>\n",
              "  </div>\n",
              "  "
            ]
          },
          "metadata": {},
          "execution_count": 177
        }
      ]
    },
    {
      "cell_type": "code",
      "source": [
        "RCV.best_params_"
      ],
      "metadata": {
        "colab": {
          "base_uri": "https://localhost:8080/"
        },
        "id": "2cHntToHMOwJ",
        "outputId": "f0f00670-08e5-4aef-ee19-ce12490df969"
      },
      "execution_count": null,
      "outputs": [
        {
          "output_type": "execute_result",
          "data": {
            "text/plain": [
              "{'bootstrap': False,\n",
              " 'criterion': 'gini',\n",
              " 'max_depth': 8,\n",
              " 'max_features': 'sqrt',\n",
              " 'min_samples_leaf': 1,\n",
              " 'min_samples_split': 8,\n",
              " 'n_estimators': 160}"
            ]
          },
          "metadata": {},
          "execution_count": 178
        }
      ]
    },
    {
      "cell_type": "code",
      "source": [
        "rf = RandomForestClassifier(**RCV.best_params_, random_state=42)\n",
        "rf.fit(X_train, y_train)\n",
        "y_pred = rf.predict(X_test)\n",
        "print(\"Accuracy:\", accuracy_score(y_test, y_pred))\n",
        "print(\"Precision:\", precision_score(y_test, y_pred))\n",
        "print(\"Recall:\", recall_score(y_test, y_pred))\n",
        "print(\"F1:\", f1_score(y_test, y_pred))"
      ],
      "metadata": {
        "colab": {
          "base_uri": "https://localhost:8080/"
        },
        "id": "vs18XnV5Mq-c",
        "outputId": "eef3a112-f544-430b-8bf9-6a875eb00770"
      },
      "execution_count": null,
      "outputs": [
        {
          "output_type": "stream",
          "name": "stdout",
          "text": [
            "Accuracy: 0.9903643421545252\n",
            "Precision: 0.9868354033616737\n",
            "Recall: 0.9939621152328335\n",
            "F1: 0.9903859386980712\n"
          ]
        }
      ]
    },
    {
      "cell_type": "code",
      "source": [
        "y_pred = rf.predict(X_test)\n",
        "cm = confusion_matrix(y_test, y_pred)\n",
        "disp = ConfusionMatrixDisplay(confusion_matrix=cm)\n",
        "disp.plot()"
      ],
      "metadata": {
        "colab": {
          "base_uri": "https://localhost:8080/",
          "height": 515
        },
        "id": "RCLXm71KNpKB",
        "outputId": "68dd757a-4036-405e-c919-4f519198f9ed"
      },
      "execution_count": null,
      "outputs": [
        {
          "output_type": "execute_result",
          "data": {
            "text/plain": [
              "<sklearn.metrics._plot.confusion_matrix.ConfusionMatrixDisplay at 0x7f4ac1dae450>"
            ]
          },
          "metadata": {},
          "execution_count": 180
        },
        {
          "output_type": "display_data",
          "data": {
            "text/plain": [
              "<Figure size 864x576 with 2 Axes>"
            ],
            "image/png": "[encoded data removed]"
          },
          "metadata": {
            "needs_background": "light"
          }
        }
      ]
    }
  ]
}